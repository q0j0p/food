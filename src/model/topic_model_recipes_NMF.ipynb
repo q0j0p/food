{
 "cells": [
  {
   "cell_type": "markdown",
   "metadata": {},
   "source": [
    "# Topic modeling recipe ingredients with non-negative matrix factorization\n",
    "\n",
    "Use non-negative matrix factorization to extract themes from ingredients.  "
   ]
  },
  {
   "cell_type": "code",
   "execution_count": 18,
   "metadata": {
    "ExecuteTime": {
     "end_time": "2017-07-14T17:16:39.615402Z",
     "start_time": "2017-07-14T17:16:39.552363Z"
    }
   },
   "outputs": [],
   "source": [
    "import pandas as pd\n",
    "import numpy as np\n",
    "import cPickle\n",
    "import nltk\n",
    "from sklearn.feature_extraction.text import TfidfVectorizer, CountVectorizer\n",
    "from sklearn.decomposition import TruncatedSVD, NMF\n",
    "from numpy.random import rand, RandomState\n",
    "from numpy import array, matrix, linalg\n",
    "from nltk import word_tokenize \n",
    "import string\n",
    "from nltk.stem import WordNetLemmatizer\n",
    "import matplotlib.pyplot as plt\n",
    "%matplotlib inline "
   ]
  },
  {
   "cell_type": "code",
   "execution_count": 19,
   "metadata": {
    "ExecuteTime": {
     "end_time": "2017-07-14T17:16:41.335885Z",
     "start_time": "2017-07-14T17:16:39.619006Z"
    }
   },
   "outputs": [],
   "source": [
    "# Previously tokenized recipe corpus\n",
    "# dict of recipe_ID:list of preprocessed, tokenized ingredient phrases\n",
    "with open('../data/allrecipes/recipe_tokens.pkl', 'rb') as f: \n",
    "    recipe_tokens = cPickle.load(f)"
   ]
  },
  {
   "cell_type": "code",
   "execution_count": 20,
   "metadata": {
    "ExecuteTime": {
     "end_time": "2017-07-14T17:16:41.478721Z",
     "start_time": "2017-07-14T17:16:41.343003Z"
    }
   },
   "outputs": [
    {
     "data": {
      "text/plain": [
       "(u'228057',\n",
       " [[u'collard', u'greens', u',', u'chopped'],\n",
       "  [u')', u'package', u'hickory-smoked', u'bacon', u',', u'diced'],\n",
       "  [u'butter'],\n",
       "  [u'large', u'onion', u',', u'chopped'],\n",
       "  [u'cubes', u'chicken', u'bouillon', u',', u'crumbled'],\n",
       "  [u'water'],\n",
       "  [u'garlic', u',', u'minced'],\n",
       "  [u'dried', u'oregano'],\n",
       "  [u'ground', u'thyme', u',', u'or', u'to', u'taste'],\n",
       "  [u'dried', u'savory', u',', u'or', u'to', u'taste'],\n",
       "  [u'milk']])"
      ]
     },
     "execution_count": 20,
     "metadata": {},
     "output_type": "execute_result"
    }
   ],
   "source": [
    "recipe_tokens.items()[1]"
   ]
  },
  {
   "cell_type": "code",
   "execution_count": 21,
   "metadata": {
    "ExecuteTime": {
     "end_time": "2017-07-14T17:16:41.602844Z",
     "start_time": "2017-07-14T17:16:41.497338Z"
    },
    "collapsed": true
   },
   "outputs": [],
   "source": [
    "# # \n",
    "# class LemmaTokenizer(object):\n",
    "#     def __init__(self):\n",
    "#          self.wnl = WordNetLemmatizer()\n",
    "#     def __call__(self, doc):\n",
    "#          return [self.wnl.lemmatize(t) for t in word_tokenize(doc) \\\n",
    "#                  if t not in string.punctuation]"
   ]
  },
  {
   "cell_type": "code",
   "execution_count": 22,
   "metadata": {
    "ExecuteTime": {
     "end_time": "2017-07-14T17:16:41.667499Z",
     "start_time": "2017-07-14T17:16:41.607734Z"
    },
    "collapsed": true
   },
   "outputs": [],
   "source": [
    "# instantiate stemmer, analyzer \n",
    "stemmer = nltk.SnowballStemmer(\"english\")\n",
    "analyzer = CountVectorizer().build_analyzer()\n",
    "def stemmed_words(doc):\n",
    "    return (stemmer.stem(w) for w in analyzer(doc))"
   ]
  },
  {
   "cell_type": "code",
   "execution_count": 23,
   "metadata": {
    "ExecuteTime": {
     "end_time": "2017-07-14T17:16:41.824722Z",
     "start_time": "2017-07-14T17:16:41.679688Z"
    },
    "collapsed": true
   },
   "outputs": [],
   "source": [
    "# instantiate vectorizer for ingredients\n",
    "vectorizer = CountVectorizer(stop_words='english', \n",
    "                             strip_accents='ascii',\n",
    "                             analyzer=stemmed_words)"
   ]
  },
  {
   "cell_type": "code",
   "execution_count": 24,
   "metadata": {
    "ExecuteTime": {
     "end_time": "2017-07-14T17:16:49.750735Z",
     "start_time": "2017-07-14T17:16:41.828701Z"
    },
    "collapsed": true
   },
   "outputs": [],
   "source": [
    "# Revert to phrases for stemming/lemmatizing purposes\n",
    "X0 = [[\" \".join(a) for a in b] for b in recipe_tokens.values()]\n",
    "\n",
    "X1 = [\",\".join(a) for a in X0]\n",
    "\n",
    "X2 = vectorizer.fit_transform(X1)"
   ]
  },
  {
   "cell_type": "code",
   "execution_count": 25,
   "metadata": {
    "ExecuteTime": {
     "end_time": "2017-07-14T17:16:49.798909Z",
     "start_time": "2017-07-14T17:16:49.753028Z"
    }
   },
   "outputs": [
    {
     "data": {
      "text/plain": [
       "(11111, 2791)"
      ]
     },
     "execution_count": 25,
     "metadata": {},
     "output_type": "execute_result"
    }
   ],
   "source": [
    "X2.shape"
   ]
  },
  {
   "cell_type": "code",
   "execution_count": 26,
   "metadata": {
    "ExecuteTime": {
     "end_time": "2017-07-14T17:16:49.848299Z",
     "start_time": "2017-07-14T17:16:49.802049Z"
    },
    "collapsed": true
   },
   "outputs": [],
   "source": [
    "features = vectorizer.get_feature_names()"
   ]
  },
  {
   "cell_type": "code",
   "execution_count": 27,
   "metadata": {
    "ExecuteTime": {
     "end_time": "2017-07-14T17:16:49.915934Z",
     "start_time": "2017-07-14T17:16:49.851093Z"
    },
    "collapsed": true
   },
   "outputs": [],
   "source": [
    "def reconst_mse(target, left, right):\n",
    "    return (array(target - left.dot(right))**2).mean()\n"
   ]
  },
  {
   "cell_type": "code",
   "execution_count": 28,
   "metadata": {
    "ExecuteTime": {
     "end_time": "2017-07-14T17:16:51.052858Z",
     "start_time": "2017-07-14T17:16:49.919395Z"
    }
   },
   "outputs": [
    {
     "name": "stdout",
     "output_type": "stream",
     "text": [
      "Reconstruction error: 0.009462\n",
      "\n",
      "Topic 0:\n",
      "chop pepper and to ground tast onion salt fresh garlic can black oil slice or chees dri minc dice oliv chicken tomato sauc red green\n",
      "\n",
      "Topic 1:\n",
      "sugar white flour butter egg all purpos salt bake extract vanilla ground powder milk brown cream cinnamon soften soda water packag melt chocol chees confection\n"
     ]
    }
   ],
   "source": [
    "# Explore nmf matrices \n",
    "nmf = NMF(n_components = 2)\n",
    "W = nmf.fit_transform(X2)\n",
    "H = nmf.components_\n",
    "n_top_words = 25\n",
    "print(\"Reconstruction error: %f\") %(reconst_mse(X2, W, H))\n",
    "for topic_num, topic in enumerate(H):\n",
    "    print(\"\\nTopic %d:\" % topic_num)\n",
    "    print(\" \".join([features[i] \\\n",
    "            for i in topic.argsort()[:-n_top_words - 1:-1]]))"
   ]
  },
  {
   "cell_type": "markdown",
   "metadata": {},
   "source": [
    "## With two components, NMF appears to successfully delineate \"sweet\" (topic 0) and \"savory\" (topic 1) items.  "
   ]
  },
  {
   "cell_type": "code",
   "execution_count": 29,
   "metadata": {
    "ExecuteTime": {
     "end_time": "2017-07-14T17:16:51.129200Z",
     "start_time": "2017-07-14T17:16:51.055678Z"
    },
    "collapsed": true
   },
   "outputs": [],
   "source": [
    "# Verify by observing recipes captured in theset topics"
   ]
  },
  {
   "cell_type": "code",
   "execution_count": 30,
   "metadata": {
    "ExecuteTime": {
     "end_time": "2017-07-14T17:17:17.951192Z",
     "start_time": "2017-07-14T17:16:51.136332Z"
    }
   },
   "outputs": [
    {
     "data": {
      "text/plain": [
       "<matplotlib.text.Text at 0x10f28b210>"
      ]
     },
     "execution_count": 30,
     "metadata": {},
     "output_type": "execute_result"
    },
    {
     "data": {
      "image/png": "[encoded data removed]",
      "text/plain": [
       "<matplotlib.figure.Figure at 0x115354b10>"
      ]
     },
     "metadata": {},
     "output_type": "display_data"
    }
   ],
   "source": [
    "def fit_nmf(r):\n",
    "    nmf = NMF(n_components=r)\n",
    "    nmf.fit(X2)\n",
    "    W = nmf.transform(X2)\n",
    "    H = nmf.components_\n",
    "    return nmf.reconstruction_err_\n",
    "\n",
    "error = [fit_nmf(i) for i in range(1,20)]\n",
    "plt.plot(range(1,20), error)\n",
    "plt.xticks(range(1, 20))\n",
    "plt.xlabel('r')\n",
    "plt.ylabel('Reconstruction Errror')"
   ]
  },
  {
   "cell_type": "code",
   "execution_count": 35,
   "metadata": {
    "ExecuteTime": {
     "end_time": "2017-07-14T17:19:04.339054Z",
     "start_time": "2017-07-14T17:19:04.292215Z"
    },
    "collapsed": true
   },
   "outputs": [],
   "source": [
    "# Obviously, the higher the dimension the lower the error.  "
   ]
  },
  {
   "cell_type": "code",
   "execution_count": 31,
   "metadata": {
    "ExecuteTime": {
     "end_time": "2017-07-14T17:17:19.410260Z",
     "start_time": "2017-07-14T17:17:17.953293Z"
    }
   },
   "outputs": [
    {
     "name": "stdout",
     "output_type": "stream",
     "text": [
      "\n",
      "Topic 0:\n",
      "chop can pepper onion and chees fresh tomato garlic green dice ground dri packag chicken slice drain shred black salt oil minc sauc red cream\n",
      "\n",
      "Topic 1:\n",
      "sugar white flour butter egg all purpos salt bake extract vanilla ground powder milk brown cream cinnamon soften soda water packag melt chocol confection chees\n",
      "\n",
      "Topic 2:\n",
      "to tast pepper or ground salt and black oil fresh garlic slice into cut oliv minc onion dri more sauc red larg chicken inch powder\n"
     ]
    }
   ],
   "source": [
    "num_topics = 3\n",
    "nmf = NMF(n_components=num_topics)\n",
    "nmf.fit(X2) \n",
    "W = nmf.transform(X2)\n",
    "H = nmf.components_\n",
    "for topic_num, topic in enumerate(H):\n",
    "    print(\"\\nTopic %d:\" % topic_num)\n",
    "    print(\" \".join([features[i] \\\n",
    "        for i in topic.argsort()[:-n_top_words - 1:-1]])) "
   ]
  },
  {
   "cell_type": "markdown",
   "metadata": {},
   "source": [
    "## Beyond two topics, it gets harder to interpret. "
   ]
  },
  {
   "cell_type": "code",
   "execution_count": 32,
   "metadata": {
    "ExecuteTime": {
     "end_time": "2017-07-14T17:17:27.444090Z",
     "start_time": "2017-07-14T17:17:19.412931Z"
    },
    "collapsed": true
   },
   "outputs": [],
   "source": [
    "# instantiate vectorizer for ingredients\n",
    "tfidf_vectorizer = TfidfVectorizer(stop_words='english', \n",
    "                             strip_accents='ascii',\n",
    "                             analyzer=stemmed_words)\n",
    "X2_tfidf = tfidf_vectorizer.fit_transform(X1)"
   ]
  },
  {
   "cell_type": "code",
   "execution_count": 33,
   "metadata": {
    "ExecuteTime": {
     "end_time": "2017-07-14T17:17:27.532651Z",
     "start_time": "2017-07-14T17:17:27.446585Z"
    },
    "collapsed": true
   },
   "outputs": [],
   "source": [
    "tfidf_features = tfidf_vectorizer.get_feature_names()"
   ]
  },
  {
   "cell_type": "code",
   "execution_count": 34,
   "metadata": {
    "ExecuteTime": {
     "end_time": "2017-07-14T17:17:29.077441Z",
     "start_time": "2017-07-14T17:17:27.537160Z"
    }
   },
   "outputs": [
    {
     "name": "stdout",
     "output_type": "stream",
     "text": [
      "Reconstruction error: 0.000293\n",
      "\n",
      "Topic 0:\n",
      "chop pepper ground garlic dri fresh onion minc sauc oil black tomato dice red can chicken oliv green salt and bell slice powder juic vinegar\n",
      "\n",
      "Topic 1:\n",
      "sugar bake flour purpos all white extract egg vanilla butter powder soda milk salt cinnamon brown soften ground confection pack water chocol melt shorten beaten\n",
      "\n",
      "Topic 2:\n",
      "chees packag cream shred can cheddar soup of frozen mix condens sour parmesan drain grate chop mushroom slice milk thaw butter cook soften egg onion\n",
      "\n",
      "Topic 3:\n",
      "to tast or and pepper salt more slice black fresh into as need oliv cut ground oil peel potato butter larg inch lemon garlic thin\n"
     ]
    }
   ],
   "source": [
    "# Explore nmf matrices \n",
    "nmf = NMF(n_components = 4)\n",
    "W = nmf.fit_transform(X2_tfidf)\n",
    "H = nmf.components_\n",
    "n_top_words = 25\n",
    "print(\"Reconstruction error: %f\") %(reconst_mse(X2_tfidf, W, H))\n",
    "for topic_num, topic in enumerate(H):\n",
    "    print(\"\\nTopic %d:\" % topic_num)\n",
    "    print(\" \".join([features[i] \\\n",
    "            for i in topic.argsort()[:-n_top_words - 1:-1]]))"
   ]
  },
  {
   "cell_type": "markdown",
   "metadata": {},
   "source": [
    "## term frequency / doc frequency might give more distinct topics.  "
   ]
  },
  {
   "cell_type": "code",
   "execution_count": null,
   "metadata": {
    "collapsed": true
   },
   "outputs": [],
   "source": []
  }
 ],
 "metadata": {
  "kernelspec": {
   "display_name": "Python [conda env:python2]",
   "language": "python",
   "name": "conda-env-python2-py"
  },
  "language_info": {
   "codemirror_mode": {
    "name": "ipython",
    "version": 2
   },
   "file_extension": ".py",
   "mimetype": "text/x-python",
   "name": "python",
   "nbconvert_exporter": "python",
   "pygments_lexer": "ipython2",
   "version": "2.7.13"
  }
 },
 "nbformat": 4,
 "nbformat_minor": 2
}
