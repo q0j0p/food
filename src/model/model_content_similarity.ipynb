{
 "cells": [
  {
   "cell_type": "markdown",
   "metadata": {},
   "source": [
    "# Recommendations based on item similarity \n",
    "A simple recommender based on ingredient tokenized tfidf.  "
   ]
  },
  {
   "cell_type": "code",
   "execution_count": 3,
   "metadata": {
    "ExecuteTime": {
     "end_time": "2017-07-19T17:18:22.009942Z",
     "start_time": "2017-07-19T17:18:21.682502Z"
    }
   },
   "outputs": [
    {
     "data": {
      "text/plain": [
       "[u'nutrition',\n",
       " u'followers_dict',\n",
       " u'reviews_dict',\n",
       " u'following_id_list',\n",
       " u'madeits_recipe_id_list',\n",
       " u'favorites_dict',\n",
       " u'reviews_recipe_id_list',\n",
       " u'nutrition_avg_vals',\n",
       " u'following_dict',\n",
       " u'member_ID',\n",
       " u'favorites_recipe_id_list',\n",
       " u'_id',\n",
       " u'aboutme',\n",
       " u'madeits_dict',\n",
       " u'followers_id_list']"
      ]
     },
     "execution_count": 3,
     "metadata": {},
     "output_type": "execute_result"
    }
   ],
   "source": [
    "import pymongo \n",
    "import cPickle\n",
    "import collections\n",
    "from sklearn.feature_extraction.text import TfidfVectorizer\n",
    "import nltk\n",
    "import numpy as np\n",
    "from sklearn.decomposition import NMF, PCA, TruncatedSVD \n",
    "from sklearn.cluster import KMeans\n",
    "from sklearn import metrics\n",
    "import matplotlib.pyplot as plt\n",
    "%matplotlib inline\n",
    "\n",
    "client = pymongo.MongoClient(\"mongodb://localhost/27017\")\n",
    "\n",
    "ar_db = client.allrecipes\n",
    "\n",
    "ar_db.members.find_one().keys()"
   ]
  },
  {
   "cell_type": "code",
   "execution_count": 29,
   "metadata": {
    "ExecuteTime": {
     "end_time": "2017-07-19T17:53:23.775241Z",
     "start_time": "2017-07-19T17:53:22.504751Z"
    },
    "collapsed": true
   },
   "outputs": [],
   "source": [
    "# Previously tokenized recipe corpus\n",
    "# dict of recipe_ID:list of preprocessed, tokenized ingredient phrases\n",
    "with open('../data/allrecipes/recipe_tokens.pkl', 'rb') as f: \n",
    "    recipe_tokens = cPickle.load(f)"
   ]
  },
  {
   "cell_type": "code",
   "execution_count": 30,
   "metadata": {
    "ExecuteTime": {
     "end_time": "2017-07-19T17:53:26.628607Z",
     "start_time": "2017-07-19T17:53:26.582060Z"
    }
   },
   "outputs": [
    {
     "data": {
      "text/plain": [
       "(u'73468',\n",
       " [[u'water', u',', u'divided'],\n",
       "  [u'plain', u'yogurt', u'with', u'active', u'cultures'],\n",
       "  [u'dry', u'milk', u'powder']])"
      ]
     },
     "execution_count": 30,
     "metadata": {},
     "output_type": "execute_result"
    }
   ],
   "source": [
    "recipe_tokens.items()[0]"
   ]
  },
  {
   "cell_type": "code",
   "execution_count": 32,
   "metadata": {
    "ExecuteTime": {
     "end_time": "2017-07-19T17:53:28.001981Z",
     "start_time": "2017-07-19T17:53:27.789163Z"
    },
    "scrolled": true
   },
   "outputs": [],
   "source": [
    "import itertools\n",
    "recipe_tokens = [(a[0], list(itertools.chain(*[b for b in a[1]]))) \\\n",
    "                 for a in recipe_tokens.items()]"
   ]
  },
  {
   "cell_type": "code",
   "execution_count": 33,
   "metadata": {
    "ExecuteTime": {
     "end_time": "2017-07-19T17:53:29.839398Z",
     "start_time": "2017-07-19T17:53:29.797371Z"
    }
   },
   "outputs": [
    {
     "data": {
      "text/plain": [
       "(u'73468',\n",
       " [u'water',\n",
       "  u',',\n",
       "  u'divided',\n",
       "  u'plain',\n",
       "  u'yogurt',\n",
       "  u'with',\n",
       "  u'active',\n",
       "  u'cultures',\n",
       "  u'dry',\n",
       "  u'milk',\n",
       "  u'powder'])"
      ]
     },
     "execution_count": 33,
     "metadata": {},
     "output_type": "execute_result"
    }
   ],
   "source": [
    "recipe_tokens[0]"
   ]
  },
  {
   "cell_type": "code",
   "execution_count": 34,
   "metadata": {
    "ExecuteTime": {
     "end_time": "2017-07-19T17:59:46.238307Z",
     "start_time": "2017-07-19T17:59:46.195109Z"
    }
   },
   "outputs": [
    {
     "data": {
      "text/plain": [
       "11111"
      ]
     },
     "execution_count": 34,
     "metadata": {},
     "output_type": "execute_result"
    }
   ],
   "source": [
    "len(recipe_tokens)"
   ]
  },
  {
   "cell_type": "code",
   "execution_count": 46,
   "metadata": {
    "ExecuteTime": {
     "end_time": "2017-07-19T18:05:19.897686Z",
     "start_time": "2017-07-19T18:05:19.851213Z"
    }
   },
   "outputs": [
    {
     "data": {
      "text/plain": [
       "u'chopped'"
      ]
     },
     "execution_count": 46,
     "metadata": {},
     "output_type": "execute_result"
    }
   ],
   "source": [
    "recipe_tokens[3][1]"
   ]
  },
  {
   "cell_type": "code",
   "execution_count": 49,
   "metadata": {
    "ExecuteTime": {
     "end_time": "2017-07-19T18:05:57.865810Z",
     "start_time": "2017-07-19T18:05:57.793015Z"
    },
    "collapsed": true
   },
   "outputs": [],
   "source": [
    "X = [\" \".join(a[1]) for a in recipe_tokens]"
   ]
  },
  {
   "cell_type": "code",
   "execution_count": 50,
   "metadata": {
    "ExecuteTime": {
     "end_time": "2017-07-19T18:05:58.594871Z",
     "start_time": "2017-07-19T18:05:58.552200Z"
    }
   },
   "outputs": [
    {
     "data": {
      "text/plain": [
       "u'water , divided plain yogurt with active cultures dry milk powder'"
      ]
     },
     "execution_count": 50,
     "metadata": {},
     "output_type": "execute_result"
    }
   ],
   "source": [
    "X[0]"
   ]
  },
  {
   "cell_type": "code",
   "execution_count": 94,
   "metadata": {
    "ExecuteTime": {
     "end_time": "2017-07-19T19:46:08.899517Z",
     "start_time": "2017-07-19T19:46:08.550721Z"
    },
    "collapsed": true
   },
   "outputs": [],
   "source": [
    "# instantiate stemmer, analyzer \n",
    "stemmer = nltk.SnowballStemmer(\"english\")\n",
    "analyzer = TfidfVectorizer().build_analyzer()\n",
    "def stemmed_words(doc):\n",
    "    return (stemmer.stem(w) for w in analyzer(doc))\n",
    "\n",
    "\n",
    "# instantiate vectorizer for ingredients\n",
    "vectorizer = TfidfVectorizer(stop_words='english', \n",
    "                             strip_accents='ascii',\n",
    "                             analyzer=stemmed_words)\n"
   ]
  },
  {
   "cell_type": "code",
   "execution_count": 96,
   "metadata": {
    "ExecuteTime": {
     "end_time": "2017-07-19T19:46:37.029378Z",
     "start_time": "2017-07-19T19:46:27.085883Z"
    }
   },
   "outputs": [],
   "source": [
    "X_vectorized = vectorizer.fit_transform(X)"
   ]
  },
  {
   "cell_type": "code",
   "execution_count": 53,
   "metadata": {
    "ExecuteTime": {
     "end_time": "2017-07-19T18:06:18.246718Z",
     "start_time": "2017-07-19T18:06:18.206618Z"
    },
    "collapsed": true
   },
   "outputs": [],
   "source": [
    "features = vectorizer.get_feature_names()"
   ]
  },
  {
   "cell_type": "code",
   "execution_count": 56,
   "metadata": {
    "ExecuteTime": {
     "end_time": "2017-07-19T18:19:15.062930Z",
     "start_time": "2017-07-19T18:19:15.023586Z"
    },
    "collapsed": true
   },
   "outputs": [],
   "source": [
    "# Use sklearn's pairwise_distances\n",
    "from sklearn.metrics.pairwise import pairwise_distances"
   ]
  },
  {
   "cell_type": "code",
   "execution_count": 57,
   "metadata": {
    "ExecuteTime": {
     "end_time": "2017-07-19T18:19:58.428814Z",
     "start_time": "2017-07-19T18:19:48.601038Z"
    },
    "collapsed": true
   },
   "outputs": [],
   "source": [
    "# cosine similarity as metric\n",
    "item_similarity_cosine = pairwise_distances(X_vectorized, metric='cosine')"
   ]
  },
  {
   "cell_type": "code",
   "execution_count": 58,
   "metadata": {
    "ExecuteTime": {
     "end_time": "2017-07-19T18:24:31.296627Z",
     "start_time": "2017-07-19T18:24:31.224013Z"
    }
   },
   "outputs": [
    {
     "data": {
      "text/plain": [
       "(11111, 11111)"
      ]
     },
     "execution_count": 58,
     "metadata": {},
     "output_type": "execute_result"
    }
   ],
   "source": [
    "item_similarity_cosine.shape"
   ]
  },
  {
   "cell_type": "code",
   "execution_count": 59,
   "metadata": {
    "ExecuteTime": {
     "end_time": "2017-07-19T18:24:40.525777Z",
     "start_time": "2017-07-19T18:24:40.471097Z"
    }
   },
   "outputs": [
    {
     "data": {
      "text/plain": [
       "array([    1,  5344,  9927,  7952, 10567, 10601])"
      ]
     },
     "execution_count": 59,
     "metadata": {},
     "output_type": "execute_result"
    }
   ],
   "source": [
    "# Get index of 5 most similar members\n",
    "item_similarity_cosine[1].argsort()[:-1][:6]"
   ]
  },
  {
   "cell_type": "code",
   "execution_count": 77,
   "metadata": {
    "ExecuteTime": {
     "end_time": "2017-07-19T18:41:58.474275Z",
     "start_time": "2017-07-19T18:41:58.420650Z"
    }
   },
   "outputs": [
    {
     "name": "stdout",
     "output_type": "stream",
     "text": [
      "For recipe [u'Coq Au Vin with Rosemary and Thyme']:\n",
      "   Similar recipe #1 is [u'Buffalo Veggie Quinoa Meatloaf']\n",
      "   Similar recipe #2 is [u'Skillet-Braised Brussels Sprouts']\n",
      "   Similar recipe #3 is [u\"Cary's Cast Iron Skillet Chicken Recipe\"]\n",
      "   Similar recipe #4 is [u'Eggs Poached in Tomato Sauce']\n",
      "   Similar recipe #5 is [u\"Chef John's Panzanella\"]\n"
     ]
    }
   ],
   "source": [
    "# Get similar recipes of Coq au vin\n",
    "recipe = 9927\n",
    "print \"For recipe {}:\".format(ar_db.recipes.find_one({\"recipe_ID\":recipe_tokens[recipe][0]})['name'])\n",
    "for i,a in enumerate(item_similarity_cosine[recipe].argsort()[:-1][1:6]):\n",
    "    print \"   Similar recipe #{} is {}\".format(i+1,ar_db.recipes.find_one({\"recipe_ID\":recipe_tokens[a][0]})['name'])"
   ]
  },
  {
   "cell_type": "code",
   "execution_count": 78,
   "metadata": {
    "ExecuteTime": {
     "end_time": "2017-07-19T18:42:14.636653Z",
     "start_time": "2017-07-19T18:42:14.545020Z"
    }
   },
   "outputs": [
    {
     "name": "stdout",
     "output_type": "stream",
     "text": [
      "For recipe [u'BBQ NY Strip']:\n",
      "   Similar recipe #1 is [u'New York Strip Chicago Style']\n",
      "   Similar recipe #2 is [u'Thyme-Rubbed Steaks with Sauteed Mushrooms']\n",
      "   Similar recipe #3 is [u'Xavier Steak']\n",
      "   Similar recipe #4 is [u'Marinated Flank Steak']\n",
      "   Similar recipe #5 is [u'Chimichurri Sauce']\n"
     ]
    }
   ],
   "source": [
    "recipe = 85\n",
    "print \"For recipe {}:\".format(ar_db.recipes.find_one({\"recipe_ID\":recipe_tokens[recipe][0]})['name'])\n",
    "for i,a in enumerate(item_similarity_cosine[recipe].argsort()[:-1][1:6]):\n",
    "    print \"   Similar recipe #{} is {}\".format(i+1,ar_db.recipes.find_one({\"recipe_ID\":recipe_tokens[a][0]})['name'])"
   ]
  },
  {
   "cell_type": "code",
   "execution_count": 79,
   "metadata": {
    "ExecuteTime": {
     "end_time": "2017-07-19T18:48:17.425867Z",
     "start_time": "2017-07-19T18:48:16.765797Z"
    }
   },
   "outputs": [
    {
     "name": "stdout",
     "output_type": "stream",
     "text": [
      "For recipe [u'Garlic Teriyaki Edamame']:\n",
      "   Similar recipe #1 is [u'Simple Roasted Edamame ']\n",
      "   Similar recipe #2 is [u'Sesame Broccoli Salad']\n",
      "   Similar recipe #3 is [u'Sesame Noodles']\n",
      "   Similar recipe #4 is [u'Easy Grilled Chicken Teriyaki']\n",
      "   Similar recipe #5 is [u'Spicy Chinese Mustard Green Beans ']\n"
     ]
    }
   ],
   "source": [
    "recipe = 99\n",
    "print \"For recipe {}:\".format(ar_db.recipes.find_one({\"recipe_ID\":recipe_tokens[recipe][0]})['name'])\n",
    "for i,a in enumerate(item_similarity_cosine[recipe].argsort()[:-1][1:6]):\n",
    "    print \"   Similar recipe #{} is {}\".format(i+1,ar_db.recipes.find_one({\"recipe_ID\":recipe_tokens[a][0]})['name'])"
   ]
  },
  {
   "cell_type": "markdown",
   "metadata": {},
   "source": [
    "They look ok. \n",
    "\n",
    "## Todo: \n",
    "1. Given a member's recipe history, recommend based on item similarity.  "
   ]
  },
  {
   "cell_type": "code",
   "execution_count": null,
   "metadata": {
    "collapsed": true
   },
   "outputs": [],
   "source": [
    "recipe_tokens_dict = "
   ]
  },
  {
   "cell_type": "code",
   "execution_count": 80,
   "metadata": {
    "ExecuteTime": {
     "end_time": "2017-07-19T19:04:55.391279Z",
     "start_time": "2017-07-19T19:04:47.094083Z"
    }
   },
   "outputs": [
    {
     "data": {
      "text/plain": [
       "(u'17117019', [u'26297', u'26297', u'10462', u'10462'])"
      ]
     },
     "execution_count": 80,
     "metadata": {},
     "output_type": "execute_result"
    }
   ],
   "source": [
    "member_recipes = [(a['member_ID'], a['madeits_recipe_id_list']+a['favorites_recipe_id_list']) for a in ar_db.members.find()]\n",
    "\n",
    "member_recipes[0]"
   ]
  },
  {
   "cell_type": "code",
   "execution_count": 82,
   "metadata": {
    "ExecuteTime": {
     "end_time": "2017-07-19T19:07:36.299688Z",
     "start_time": "2017-07-19T19:07:34.434948Z"
    },
    "collapsed": true
   },
   "outputs": [],
   "source": [
    "with open('../data/allrecipes/recipe_tokens.pkl', 'rb') as f: \n",
    "    recipe_tokens_dict = cPickle.load(f) "
   ]
  },
  {
   "cell_type": "code",
   "execution_count": 84,
   "metadata": {
    "ExecuteTime": {
     "end_time": "2017-07-19T19:07:50.556840Z",
     "start_time": "2017-07-19T19:07:50.371143Z"
    }
   },
   "outputs": [],
   "source": [
    "member_ingredients = [(a[0], [recipe_tokens_dict.get(b, \"\") for b in a[1]]) for a in member_recipes]"
   ]
  },
  {
   "cell_type": "code",
   "execution_count": 85,
   "metadata": {
    "ExecuteTime": {
     "end_time": "2017-07-19T19:07:55.005490Z",
     "start_time": "2017-07-19T19:07:54.939625Z"
    },
    "collapsed": true
   },
   "outputs": [],
   "source": [
    "# stackoverflow solution for flattening lists of lists \n",
    "def flatten(items, seqtypes=(list, tuple)):\n",
    "    for i, x in enumerate(items):\n",
    "        while i < len(items) and isinstance(items[i], seqtypes):\n",
    "            items[i:i+1] = items[i]\n",
    "    return items"
   ]
  },
  {
   "cell_type": "code",
   "execution_count": 86,
   "metadata": {
    "ExecuteTime": {
     "end_time": "2017-07-19T19:07:59.292392Z",
     "start_time": "2017-07-19T19:07:58.058387Z"
    },
    "collapsed": true
   },
   "outputs": [],
   "source": [
    "member_ingredient_tokens = [(a[0], \" \".join(flatten(a[1]))) for a in member_ingredients]"
   ]
  },
  {
   "cell_type": "code",
   "execution_count": 87,
   "metadata": {
    "ExecuteTime": {
     "end_time": "2017-07-19T19:08:06.867562Z",
     "start_time": "2017-07-19T19:08:06.812557Z"
    }
   },
   "outputs": [
    {
     "data": {
      "text/plain": [
       "(u'17117019',\n",
       " u') package rotini pasta vegetable oil fresh lime juice chili powder , or to taste ground cumin salt garlic , crushed whole kernel corn ) can black beans , drained and rinsed diced green bell pepper diced red bell pepper fresh cilantro leaves chopped roma tomatoes ) package rotini pasta vegetable oil fresh lime juice chili powder , or to taste ground cumin salt garlic , crushed whole kernel corn ) can black beans , drained and rinsed diced green bell pepper diced red bell pepper fresh cilantro leaves chopped roma tomatoes white sugar baking powder all-purpose flour shortening egg salt ground cinnamon fresh blueberries white sugar cornstarch white sugar baking powder all-purpose flour shortening egg salt ground cinnamon fresh blueberries white sugar cornstarch')"
      ]
     },
     "execution_count": 87,
     "metadata": {},
     "output_type": "execute_result"
    }
   ],
   "source": [
    "member_ingredient_tokens[0]"
   ]
  },
  {
   "cell_type": "code",
   "execution_count": 88,
   "metadata": {
    "ExecuteTime": {
     "end_time": "2017-07-19T19:09:09.573129Z",
     "start_time": "2017-07-19T19:09:09.517012Z"
    },
    "collapsed": true
   },
   "outputs": [],
   "source": [
    "member_ingredients = [a[1] for a in member_ingredient_tokens]"
   ]
  },
  {
   "cell_type": "code",
   "execution_count": null,
   "metadata": {
    "collapsed": true
   },
   "outputs": [],
   "source": []
  },
  {
   "cell_type": "code",
   "execution_count": 97,
   "metadata": {
    "ExecuteTime": {
     "end_time": "2017-07-19T19:47:08.321004Z",
     "start_time": "2017-07-19T19:46:37.031810Z"
    }
   },
   "outputs": [],
   "source": [
    "# use previous vectorizer vocabularies \n",
    "member_ing_vectorized = vectorizer.transform(member_ingredients)"
   ]
  },
  {
   "cell_type": "code",
   "execution_count": null,
   "metadata": {
    "collapsed": true
   },
   "outputs": [],
   "source": [
    "# cosine similarity as metric\n",
    "item_similarity_cosine = pairwise_distances(member_ing_vectorized, metric='cosine')"
   ]
  },
  {
   "cell_type": "code",
   "execution_count": 98,
   "metadata": {
    "ExecuteTime": {
     "end_time": "2017-07-19T19:49:30.636224Z",
     "start_time": "2017-07-19T19:49:30.404138Z"
    }
   },
   "outputs": [
    {
     "data": {
      "text/plain": [
       "(1430, 2791)"
      ]
     },
     "execution_count": 98,
     "metadata": {},
     "output_type": "execute_result"
    }
   ],
   "source": [
    "member_ing_vectorized.shape"
   ]
  },
  {
   "cell_type": "code",
   "execution_count": null,
   "metadata": {
    "collapsed": true
   },
   "outputs": [],
   "source": []
  },
  {
   "cell_type": "code",
   "execution_count": 146,
   "metadata": {
    "ExecuteTime": {
     "end_time": "2017-07-19T23:23:37.591575Z",
     "start_time": "2017-07-19T23:23:37.530800Z"
    },
    "collapsed": true
   },
   "outputs": [],
   "source": [
    "from scipy.spatial.distance import cosine\n",
    "def recommend_recipe(member_rec_tokenized):\n",
    "    \"\"\"Given a tokenized list of ingedients, return most similar item\"\"\"\n",
    "    rec_vectorized = vectorizer.transform(member_rec_tokenized)\n",
    "    distances = np.zeros(X_vectorized.shape[0])\n",
    "    for i,v in enumerate(X_vectorized): \n",
    "        distances[i] = cosine(rec_vectorized.todense(), v.todense())\n",
    "    return distances.argsort()[:-10:-1]"
   ]
  },
  {
   "cell_type": "code",
   "execution_count": 139,
   "metadata": {
    "ExecuteTime": {
     "end_time": "2017-07-19T23:15:52.902878Z",
     "start_time": "2017-07-19T23:15:52.861208Z"
    }
   },
   "outputs": [
    {
     "data": {
      "text/plain": [
       "<1x2791 sparse matrix of type '<type 'numpy.float64'>'\n",
       "\twith 48 stored elements in Compressed Sparse Row format>"
      ]
     },
     "execution_count": 139,
     "metadata": {},
     "output_type": "execute_result"
    }
   ],
   "source": [
    "member_ing_vectorized[0]"
   ]
  },
  {
   "cell_type": "code",
   "execution_count": 154,
   "metadata": {
    "ExecuteTime": {
     "end_time": "2017-07-19T23:29:22.232183Z",
     "start_time": "2017-07-19T23:29:17.372148Z"
    },
    "scrolled": true
   },
   "outputs": [
    {
     "name": "stdout",
     "output_type": "stream",
     "text": [
      "for memeber  5049040\n",
      "   Recommended recipe #1 is []\n",
      "   Recommended recipe #2 is [u'California Chicken Spaghetti']\n",
      "   Recommended recipe #3 is [u'Vegetarian Four Cheese Lasagna']\n",
      "   Recommended recipe #4 is [u'Italian Stewed Tomatoes']\n",
      "   Recommended recipe #5 is [u'Burgundy Pork Tenderloin']\n",
      "   Recommended recipe #6 is [u'Tamale Casserole']\n",
      "   Recommended recipe #7 is [u'Lavender Tea Bread']\n",
      "   Recommended recipe #8 is [u\"Quick Hoppin' John Soup-KT\"]\n",
      "   Recommended recipe #9 is [u'Comfort Breakfast Bake']\n"
     ]
    }
   ],
   "source": [
    "print \"for memeber \", member_ingredient_tokens[1][0]\n",
    "for i,a in enumerate(recommend_recipe([member_ingredient_tokens[1][0]])):\n",
    "    print \"   Recommended recipe #{} is {}\".format(i+1,ar_db.recipes.find_one({\"recipe_ID\":recipe_tokens[a][0]})['name'])"
   ]
  },
  {
   "cell_type": "code",
   "execution_count": 161,
   "metadata": {
    "ExecuteTime": {
     "end_time": "2017-07-19T23:32:14.536787Z",
     "start_time": "2017-07-19T23:32:14.424844Z"
    }
   },
   "outputs": [
    {
     "data": {
      "text/plain": [
       "{u'_id': ObjectId('58d1a3f99d477a1e01c32ea0'),\n",
       " u'favorites_dict': {u'cashew-chicken-with-water-chestnuts': u'162392',\n",
       "  u'cauliflower-mac-and-cheese-bake': u'246102',\n",
       "  u'dads-caesar-salad': u'64559440',\n",
       "  u'doctor-bird-cake': u'20906',\n",
       "  u'dorm-room-chili-mac': u'139471',\n",
       "  u'garlicky-tortellini-soup-with-sausage-tomatoes-and-spinach': u'62177657',\n",
       "  u'goat-stew': u'228238',\n",
       "  u'homemade-browning-sauce': u'64360001',\n",
       "  u'irish-potato-nachos': u'235983',\n",
       "  u'italian-spinach-sausage-pie': u'222705',\n",
       "  u'mexican-shepherds-pie': u'68806',\n",
       "  u'mommas-hot-dog-casserole': u'231624',\n",
       "  u'nanny-129s-roasted-potatoes': u'64168799',\n",
       "  u'nunus-and-hot-dogs': u'161522',\n",
       "  u'parmesan-crusted-au-gratin-potatoes-and-onion': u'234645',\n",
       "  u'pork-sausages-with-caramelized-onion-sauce': u'89948',\n",
       "  u'shyams-goat-biryani': u'237347',\n",
       "  u'vegan-and-gluten-free-broth-powder': u'240511',\n",
       "  u'wet-meat': u'62937442',\n",
       "  u'zimbabwean-chicken-and-vegetable-soup': u'219483'},\n",
       " u'madeits_dict': {u' BBQ NY Strip ': u'86801',\n",
       "  u' Beefy Baked Ravioli ': u'87624',\n",
       "  u' Blackberry Spinach Salad ': u'41637',\n",
       "  u' Broth Marinated BBQ Steak ': u'21037',\n",
       "  u' Citrus Carrot Salad ': u'233078',\n",
       "  u' Creamy Tortellini Carbonara ': u'216572',\n",
       "  u' Family Casserole ': u'46859',\n",
       "  u' Garlic Chicken Fried Brown Rice ': u'78144',\n",
       "  u' Grilled Cheese De Mayo ': u'237454',\n",
       "  u' Grilled Chicken Marinade ': u'241890',\n",
       "  u' Homemade Banana Pudding Pie ': u'16875',\n",
       "  u\" Luck o' the Irish Brownie \": u'162836',\n",
       "  u' Pierogie and Mushroom Casserole ': u'240948',\n",
       "  u' Raspberry Balsamic Vinaigrette Dressing ': u'241621',\n",
       "  u' Roast Sticky Chicken-Rotisserie Style ': u'45954',\n",
       "  u' Steak Tip Marinade ': u'26659',\n",
       "  u' Stupid Hot Dog Thing ': u'214474',\n",
       "  u' Three Cheese Tortellini with Chicken Broth ': u'236670',\n",
       "  u' Vanilla Ice Cream V ': u'19812'}}"
      ]
     },
     "execution_count": 161,
     "metadata": {},
     "output_type": "execute_result"
    }
   ],
   "source": [
    "ar_db.members.find_one({'member_ID':'5049040'},['madeits_dict','favorites_dict'])"
   ]
  },
  {
   "cell_type": "code",
   "execution_count": 162,
   "metadata": {
    "ExecuteTime": {
     "end_time": "2017-07-19T23:34:05.709054Z",
     "start_time": "2017-07-19T23:34:05.661464Z"
    },
    "collapsed": true
   },
   "outputs": [],
   "source": [
    "# Looks good.  Make sure recommended recipes aren't ones the member alraedy made.  "
   ]
  },
  {
   "cell_type": "code",
   "execution_count": null,
   "metadata": {
    "collapsed": true
   },
   "outputs": [],
   "source": []
  }
 ],
 "metadata": {
  "kernelspec": {
   "display_name": "Python [conda env:python2]",
   "language": "python",
   "name": "conda-env-python2-py"
  },
  "language_info": {
   "codemirror_mode": {
    "name": "ipython",
    "version": 2
   },
   "file_extension": ".py",
   "mimetype": "text/x-python",
   "name": "python",
   "nbconvert_exporter": "python",
   "pygments_lexer": "ipython2",
   "version": "2.7.13"
  }
 },
 "nbformat": 4,
 "nbformat_minor": 2
}
