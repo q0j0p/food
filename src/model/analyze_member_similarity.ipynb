{
 "cells": [
  {
   "cell_type": "markdown",
   "metadata": {},
   "source": [
    "# Calculate user similarity based on recipes made (or favorited) "
   ]
  },
  {
   "cell_type": "code",
   "execution_count": 3,
   "metadata": {
    "ExecuteTime": {
     "end_time": "2017-07-13T18:55:15.845559Z",
     "start_time": "2017-07-13T18:55:12.024558Z"
    }
   },
   "outputs": [
    {
     "data": {
      "text/plain": [
       "[u'recipe_pages',\n",
       " u'community_link_pages',\n",
       " u'recipes',\n",
       " u'member_pages',\n",
       " u'members',\n",
       " u'webpages',\n",
       " u'healthy_recipes',\n",
       " u'about',\n",
       " u'community_page']"
      ]
     },
     "execution_count": 3,
     "metadata": {},
     "output_type": "execute_result"
    }
   ],
   "source": [
    "%matplotlib inline \n",
    "from sklearn.metrics import jaccard_similarity_score\n",
    "import pymongo\n",
    "import math\n",
    "import collections\n",
    "import networkx as nx\n",
    "import pandas as pd\n",
    "import numpy as np\n",
    "from scipy.spatial.distance import pdist, jaccard\n",
    "from sklearn.feature_extraction import DictVectorizer\n",
    "import matplotlib.pyplot as plt\n",
    "\n",
    "client = pymongo.MongoClient(\"mongodb://localhost/27017/\")\n",
    "\n",
    "ar_db = client.allrecipes\n",
    "\n",
    "ar_db.collection_names()"
   ]
  },
  {
   "cell_type": "code",
   "execution_count": 4,
   "metadata": {
    "ExecuteTime": {
     "end_time": "2017-07-13T18:55:15.937918Z",
     "start_time": "2017-07-13T18:55:15.847607Z"
    }
   },
   "outputs": [
    {
     "data": {
      "text/plain": [
       "1430"
      ]
     },
     "execution_count": 4,
     "metadata": {},
     "output_type": "execute_result"
    }
   ],
   "source": [
    "ar_db.members.count()"
   ]
  },
  {
   "cell_type": "code",
   "execution_count": 5,
   "metadata": {
    "ExecuteTime": {
     "end_time": "2017-07-13T18:55:16.008168Z",
     "start_time": "2017-07-13T18:55:15.941804Z"
    },
    "scrolled": true
   },
   "outputs": [
    {
     "data": {
      "text/plain": [
       "{u'_id': ObjectId('58d1a3f99d477a1e01c32e9f'),\n",
       " u'aboutme': {},\n",
       " u'favorites_dict': {u'blueberry-crumb-bars': u'10462',\n",
       "  u'southwestern-pasta-salad': u'26297'},\n",
       " u'favorites_recipe_id_list': [u'26297', u'26297', u'10462', u'10462'],\n",
       " u'followers_dict': {u'Ariel Penn': u'20455424',\n",
       "  u'Debra Jenkins Schneider': u'17995663',\n",
       "  u'Martha Schneider': u'20923340'},\n",
       " u'followers_id_list': [u'20923340', u'20455424', u'17995663'],\n",
       " u'following_dict': {u'Allrecipes': u'allrecipes',\n",
       "  u'Martha Schneider': u'20923340'},\n",
       " u'following_id_list': [u'20923340', u'allrecipes'],\n",
       " u'madeits_dict': {},\n",
       " u'madeits_recipe_id_list': [],\n",
       " u'member_ID': u'17117019',\n",
       " u'nutrition': {u'Calories': {u'25%': 242.25,\n",
       "   u'50%': 267.5,\n",
       "   u'75%': 292.75,\n",
       "   u'count': 2.0,\n",
       "   u'max': 318.0,\n",
       "   u'mean': 267.5,\n",
       "   u'min': 217.0,\n",
       "   u'std': 71.4177848998413},\n",
       "  u'Carbs': {u'25%': 31.724999999999998,\n",
       "   u'50%': 36.25,\n",
       "   u'75%': 40.77499999999999,\n",
       "   u'count': 2.0,\n",
       "   u'max': 45.3,\n",
       "   u'mean': 36.25,\n",
       "   u'min': 27.2,\n",
       "   u'std': 12.798632739476508},\n",
       "  u'Fat': {u'25%': 11.325000000000001,\n",
       "   u'50%': 12.350000000000001,\n",
       "   u'75%': 13.375,\n",
       "   u'count': 2.0,\n",
       "   u'max': 14.4,\n",
       "   u'mean': 12.350000000000001,\n",
       "   u'min': 10.3,\n",
       "   u'std': 2.8991378028648445},\n",
       "  u'Protein': {u'25%': 4.1,\n",
       "   u'50%': 4.9,\n",
       "   u'75%': 5.7,\n",
       "   u'count': 2.0,\n",
       "   u'max': 6.5,\n",
       "   u'mean': 4.9,\n",
       "   u'min': 3.3,\n",
       "   u'std': 2.2627416997969525},\n",
       "  u'Sodium': {u'25%': 174.75,\n",
       "   u'50%': 272.5,\n",
       "   u'75%': 370.25,\n",
       "   u'count': 2.0,\n",
       "   u'max': 468.0,\n",
       "   u'mean': 272.5,\n",
       "   u'min': 77.0,\n",
       "   u'std': 276.4787514439401},\n",
       "  u'fat_per_cals': {u'25%': 0.04582862359794801,\n",
       "   u'50%': 0.04637422832797149,\n",
       "   u'75%': 0.046919833057994964,\n",
       "   u'count': 2.0,\n",
       "   u'max': 0.047465437788018434,\n",
       "   u'mean': 0.04637422832797149,\n",
       "   u'min': 0.04528301886792453,\n",
       "   u'std': 0.0015432032177882203}},\n",
       " u'nutrition_avg_vals': {u'Calories': 267.5,\n",
       "  u'Carbs': 36.25,\n",
       "  u'Cholesterol': 6.0,\n",
       "  u'Fat': 12.350000000000001,\n",
       "  u'Protein': 4.9,\n",
       "  u'Sodium': 272.5},\n",
       " u'reviews_dict': [],\n",
       " u'reviews_recipe_id_list': []}"
      ]
     },
     "execution_count": 5,
     "metadata": {},
     "output_type": "execute_result"
    }
   ],
   "source": [
    "# Sample a member document\n",
    "ar_db.members.find_one()"
   ]
  },
  {
   "cell_type": "markdown",
   "metadata": {},
   "source": [
    "##  Get documents of members that have reviewed a recipe or more "
   ]
  },
  {
   "cell_type": "code",
   "execution_count": 6,
   "metadata": {
    "ExecuteTime": {
     "end_time": "2017-07-13T18:55:29.671107Z",
     "start_time": "2017-07-13T18:55:16.010816Z"
    },
    "collapsed": true
   },
   "outputs": [],
   "source": [
    "member_reviews = {a[\"member_ID\"]: a[\"reviews_dict\"] for a in ar_db.members.find(\n",
    "    {\"reviews_dict\":{\"$not\":{\"$size\":0}}})}"
   ]
  },
  {
   "cell_type": "code",
   "execution_count": 7,
   "metadata": {
    "ExecuteTime": {
     "end_time": "2017-07-13T18:55:29.756417Z",
     "start_time": "2017-07-13T18:55:29.676368Z"
    }
   },
   "outputs": [
    {
     "data": {
      "text/plain": [
       "(u'1252111',\n",
       " [{u'recipe_ID': u'215026',\n",
       "   u'recipe_link': u'/recipe/215026/spicy-eggplant/',\n",
       "   u'recipe_rating': u'5',\n",
       "   u'recipe_title': u'Spicy Eggplant',\n",
       "   u'review_text': u'Very tasty!  Made it vegetarian, not vegan, with cheese and milk, but very good.'},\n",
       "  {u'recipe_ID': u'86602',\n",
       "   u'recipe_link': u'/recipe/86602/navratan-korma/',\n",
       "   u'recipe_rating': u'5',\n",
       "   u'recipe_title': u'Navratan Korma',\n",
       "   u'review_text': u'Very tasty.  I did saute the onions, celery and carrots in some olive oil first, as suggested.  And I think it could use a touch more seasoning the next time I make it.  I served it over white rice, and everyone had seconds and thirds.'},\n",
       "  {u'recipe_ID': u'223382',\n",
       "   u'recipe_link': u'/recipe/223382/chicken-stir-fry/',\n",
       "   u'recipe_rating': u'5',\n",
       "   u'recipe_title': u'Chicken Stir-Fry',\n",
       "   u'review_text': u'A big hit at my Thanksgiving dinner!'}])"
      ]
     },
     "execution_count": 7,
     "metadata": {},
     "output_type": "execute_result"
    }
   ],
   "source": [
    "member_reviews.items()[0]"
   ]
  },
  {
   "cell_type": "code",
   "execution_count": 8,
   "metadata": {
    "ExecuteTime": {
     "end_time": "2017-07-13T18:55:29.849619Z",
     "start_time": "2017-07-13T18:55:29.759369Z"
    },
    "scrolled": true
   },
   "outputs": [],
   "source": [
    "# create dict with member, recipe, rating \n",
    "memrecrating_dict = [{\"member_ID\":a, \"recipe_ID\":b[\"recipe_ID\"],\n",
    "                      \"recipe_rating\":float(b[\"recipe_rating\"])} \\\n",
    "                     for a in member_reviews for b in member_reviews[a]]"
   ]
  },
  {
   "cell_type": "code",
   "execution_count": 9,
   "metadata": {
    "ExecuteTime": {
     "end_time": "2017-07-13T18:55:29.908679Z",
     "start_time": "2017-07-13T18:55:29.852851Z"
    }
   },
   "outputs": [
    {
     "name": "stdout",
     "output_type": "stream",
     "text": [
      "number of recipe reviews: 7057\n"
     ]
    }
   ],
   "source": [
    "print \"number of recipe reviews:\", len(memrecrating_dict)"
   ]
  },
  {
   "cell_type": "code",
   "execution_count": 10,
   "metadata": {
    "ExecuteTime": {
     "end_time": "2017-07-13T18:55:30.186742Z",
     "start_time": "2017-07-13T18:55:29.913534Z"
    },
    "collapsed": true
   },
   "outputs": [],
   "source": [
    "memrec_df = pd.DataFrame(memrecrating_dict)"
   ]
  },
  {
   "cell_type": "code",
   "execution_count": 11,
   "metadata": {
    "ExecuteTime": {
     "end_time": "2017-07-13T18:55:30.414029Z",
     "start_time": "2017-07-13T18:55:30.200263Z"
    }
   },
   "outputs": [
    {
     "data": {
      "text/html": [
       "<div>\n",
       "<style>\n",
       "    .dataframe thead tr:only-child th {\n",
       "        text-align: right;\n",
       "    }\n",
       "\n",
       "    .dataframe thead th {\n",
       "        text-align: left;\n",
       "    }\n",
       "\n",
       "    .dataframe tbody tr th {\n",
       "        vertical-align: top;\n",
       "    }\n",
       "</style>\n",
       "<table border=\"1\" class=\"dataframe\">\n",
       "  <thead>\n",
       "    <tr style=\"text-align: right;\">\n",
       "      <th></th>\n",
       "      <th>member_ID</th>\n",
       "      <th>recipe_ID</th>\n",
       "      <th>recipe_rating</th>\n",
       "    </tr>\n",
       "  </thead>\n",
       "  <tbody>\n",
       "    <tr>\n",
       "      <th>0</th>\n",
       "      <td>1252111</td>\n",
       "      <td>215026</td>\n",
       "      <td>5.0</td>\n",
       "    </tr>\n",
       "    <tr>\n",
       "      <th>1</th>\n",
       "      <td>1252111</td>\n",
       "      <td>86602</td>\n",
       "      <td>5.0</td>\n",
       "    </tr>\n",
       "    <tr>\n",
       "      <th>2</th>\n",
       "      <td>1252111</td>\n",
       "      <td>223382</td>\n",
       "      <td>5.0</td>\n",
       "    </tr>\n",
       "    <tr>\n",
       "      <th>3</th>\n",
       "      <td>7869869</td>\n",
       "      <td>216758</td>\n",
       "      <td>5.0</td>\n",
       "    </tr>\n",
       "    <tr>\n",
       "      <th>4</th>\n",
       "      <td>4402500</td>\n",
       "      <td>257054</td>\n",
       "      <td>3.0</td>\n",
       "    </tr>\n",
       "  </tbody>\n",
       "</table>\n",
       "</div>"
      ],
      "text/plain": [
       "  member_ID recipe_ID  recipe_rating\n",
       "0   1252111    215026            5.0\n",
       "1   1252111     86602            5.0\n",
       "2   1252111    223382            5.0\n",
       "3   7869869    216758            5.0\n",
       "4   4402500    257054            3.0"
      ]
     },
     "execution_count": 11,
     "metadata": {},
     "output_type": "execute_result"
    }
   ],
   "source": [
    "memrec_df.head()"
   ]
  },
  {
   "cell_type": "code",
   "execution_count": 12,
   "metadata": {
    "ExecuteTime": {
     "end_time": "2017-07-13T18:55:30.586781Z",
     "start_time": "2017-07-13T18:55:30.418134Z"
    },
    "scrolled": true
   },
   "outputs": [],
   "source": [
    "# # Use sklearn's vectorizer for dicts - \"one-hot\" representation, not useful.  \n",
    "# vectorizer = DictVectorizer()\n",
    "\n",
    "# reviewsarray = vectorizer.fit_transform(memrecrating_dict).toarray()\n",
    "\n",
    "# reviewsarray.shape\n",
    "\n",
    "# reviewsarray[1]"
   ]
  },
  {
   "cell_type": "code",
   "execution_count": 13,
   "metadata": {
    "ExecuteTime": {
     "end_time": "2017-07-13T18:55:30.862728Z",
     "start_time": "2017-07-13T18:55:30.598003Z"
    }
   },
   "outputs": [
    {
     "data": {
      "text/plain": [
       "[(u'162760', 17),\n",
       " (u'6820', 14),\n",
       " (u'26317', 14),\n",
       " (u'56927', 13),\n",
       " (u'8941', 11),\n",
       " (u'9023', 11),\n",
       " (u'17652', 10),\n",
       " (u'16066', 10),\n",
       " (u'14231', 10),\n",
       " (u'15880', 9),\n",
       " (u'7565', 9),\n",
       " (u'44742', 9),\n",
       " (u'10813', 9),\n",
       " (u'17066', 9),\n",
       " (u'20171', 9),\n",
       " (u'236609', 9),\n",
       " (u'10402', 8),\n",
       " (u'23600', 8),\n",
       " (u'231030', 8),\n",
       " (u'6865', 8),\n",
       " (u'8694', 8),\n",
       " (u'8372', 8),\n",
       " (u'222002', 7),\n",
       " (u'38425', 7),\n",
       " (u'8847', 7),\n",
       " (u'220059', 7),\n",
       " (u'14685', 7),\n",
       " (u'15004', 7),\n",
       " (u'213742', 7),\n",
       " (u'45954', 7),\n",
       " (u'229733', 7),\n",
       " (u'70343', 7),\n",
       " (u'17691', 7),\n",
       " (u'20144', 7),\n",
       " (u'7402', 7),\n",
       " (u'25642', 7),\n",
       " (u'214413', 6),\n",
       " (u'51283', 6),\n",
       " (u'16700', 6),\n",
       " (u'221958', 6),\n",
       " (u'15925', 6),\n",
       " (u'143082', 6),\n",
       " (u'83557', 6),\n",
       " (u'16947', 6),\n",
       " (u'33385', 6),\n",
       " (u'16955', 6),\n",
       " (u'54675', 6),\n",
       " (u'13116', 6),\n",
       " (u'7177', 6),\n",
       " (u'14495', 6),\n",
       " (u'230816', 6),\n",
       " (u'22544', 6),\n",
       " (u'10549', 6),\n",
       " (u'18906', 6),\n",
       " (u'12398', 6),\n",
       " (u'26019', 6),\n",
       " (u'15093', 6),\n",
       " (u'65896', 6),\n",
       " (u'10638', 5),\n",
       " (u'33474', 5),\n",
       " (u'26972', 5),\n",
       " (u'92462', 5),\n",
       " (u'8499', 5),\n",
       " (u'20066', 5),\n",
       " (u'12720', 5),\n",
       " (u'85452', 5),\n",
       " (u'13333', 5),\n",
       " (u'59124', 5),\n",
       " (u'14469', 5),\n",
       " (u'9999', 5),\n",
       " (u'25895', 5),\n",
       " (u'21014', 5),\n",
       " (u'19291', 5),\n",
       " (u'75861', 5),\n",
       " (u'237066', 5),\n",
       " (u'141678', 5),\n",
       " (u'12682', 5),\n",
       " (u'8887', 5),\n",
       " (u'17215', 5),\n",
       " (u'25203', 5),\n",
       " (u'143667', 5),\n",
       " (u'228319', 5),\n",
       " (u'78370', 5),\n",
       " (u'25321', 5),\n",
       " (u'24264', 5),\n",
       " (u'231510', 5),\n",
       " (u'76594', 5),\n",
       " (u'16196', 5),\n",
       " (u'17481', 5),\n",
       " (u'139012', 5),\n",
       " (u'79470', 5),\n",
       " (u'7245', 5),\n",
       " (u'14939', 5),\n",
       " (u'223042', 5),\n",
       " (u'23998', 4),\n",
       " (u'19402', 4),\n",
       " (u'142027', 4),\n",
       " (u'13941', 4),\n",
       " (u'109190', 4),\n",
       " (u'6788', 4),\n",
       " (u'11758', 4),\n",
       " (u'146000', 4),\n",
       " (u'255620', 4),\n",
       " (u'234415', 4),\n",
       " (u'24771', 4),\n",
       " (u'16239', 4),\n",
       " (u'20724', 4),\n",
       " (u'14415', 4),\n",
       " (u'246332', 4),\n",
       " (u'229994', 4),\n",
       " (u'220597', 4),\n",
       " (u'20868', 4),\n",
       " (u'16354', 4),\n",
       " (u'83844', 4),\n",
       " (u'11864', 4),\n",
       " (u'67952', 4),\n",
       " (u'8281', 4),\n",
       " (u'234033', 4),\n",
       " (u'8350', 4),\n",
       " (u'220127', 4),\n",
       " (u'74694', 4),\n",
       " (u'228498', 4),\n",
       " (u'85389', 4),\n",
       " (u'13477', 4),\n",
       " (u'16964', 4),\n",
       " (u'18411', 4),\n",
       " (u'63409070', 4),\n",
       " (u'16754', 4),\n",
       " (u'11798', 4),\n",
       " (u'239993', 4),\n",
       " (u'258044', 4),\n",
       " (u'233437', 4),\n",
       " (u'8665', 4),\n",
       " (u'203951', 4),\n",
       " (u'26460', 4),\n",
       " (u'21672', 4),\n",
       " (u'68461', 4),\n",
       " (u'223355', 4),\n",
       " (u'15206', 4),\n",
       " (u'51301', 4),\n",
       " (u'16142', 4),\n",
       " (u'8640', 4),\n",
       " (u'92528', 4),\n",
       " (u'63900782', 4),\n",
       " (u'74657', 4),\n",
       " (u'223382', 4),\n",
       " (u'100606', 4),\n",
       " (u'89539', 4),\n",
       " (u'45957', 4),\n",
       " (u'8652', 4),\n",
       " (u'16080', 4),\n",
       " (u'19673', 4),\n",
       " (u'96749', 4),\n",
       " (u'8690', 4),\n",
       " (u'42719', 4),\n",
       " (u'169749', 4),\n",
       " (u'77981', 4),\n",
       " (u'8130', 4),\n",
       " (u'31064', 4),\n",
       " (u'22313', 4),\n",
       " (u'236320', 4),\n",
       " (u'229029', 4),\n",
       " (u'14595', 4),\n",
       " (u'214931', 4),\n",
       " (u'244588', 4),\n",
       " (u'24059', 4),\n",
       " (u'26692', 4),\n",
       " (u'229566', 4),\n",
       " (u'242352', 4),\n",
       " (u'51535', 4),\n",
       " (u'9870', 4),\n",
       " (u'18871', 4),\n",
       " (u'102133', 4),\n",
       " (u'94113', 4),\n",
       " (u'84214', 4),\n",
       " (u'230132', 4),\n",
       " (u'235151', 4),\n",
       " (u'158727', 4),\n",
       " (u'13041', 4),\n",
       " (u'13045', 4),\n",
       " (u'11588', 4),\n",
       " (u'24530', 4),\n",
       " (u'87563', 4),\n",
       " (u'55610', 3),\n",
       " (u'256906', 3),\n",
       " (u'239917', 3),\n",
       " (u'219946', 3),\n",
       " (u'142967', 3),\n",
       " (u'240324', 3),\n",
       " (u'14440', 3),\n",
       " (u'244465', 3),\n",
       " (u'16810', 3),\n",
       " (u'10141', 3),\n",
       " (u'8944', 3),\n",
       " (u'229088', 3),\n",
       " (u'70935', 3),\n",
       " (u'229156', 3),\n",
       " (u'218557', 3),\n",
       " (u'13948', 3),\n",
       " (u'6971', 3)]"
      ]
     },
     "execution_count": 13,
     "metadata": {},
     "output_type": "execute_result"
    }
   ],
   "source": [
    "collections.Counter([a['recipe_ID'] for a in memrecrating_dict]).most_common()[:200]"
   ]
  },
  {
   "cell_type": "code",
   "execution_count": 14,
   "metadata": {
    "ExecuteTime": {
     "end_time": "2017-07-13T18:55:30.956117Z",
     "start_time": "2017-07-13T18:55:30.867776Z"
    }
   },
   "outputs": [
    {
     "name": "stdout",
     "output_type": "stream",
     "text": [
      "Counter({5.0: 4772, 4.0: 1553, 3.0: 488, 2.0: 149, 1.0: 95})\n"
     ]
    }
   ],
   "source": [
    "ratings_count = collections.Counter([a['recipe_rating'] for a in memrecrating_dict])\n",
    "print ratings_count"
   ]
  },
  {
   "cell_type": "code",
   "execution_count": 15,
   "metadata": {
    "ExecuteTime": {
     "end_time": "2017-07-13T18:55:31.491240Z",
     "start_time": "2017-07-13T18:55:30.961582Z"
    },
    "scrolled": false
   },
   "outputs": [
    {
     "data": {
      "text/plain": [
       "<Container object of 5 artists>"
      ]
     },
     "execution_count": 15,
     "metadata": {},
     "output_type": "execute_result"
    },
    {
     "data": {
      "image/png": "[encoded data removed]",
      "text/plain": [
       "<matplotlib.figure.Figure at 0x110b03b50>"
      ]
     },
     "metadata": {},
     "output_type": "display_data"
    }
   ],
   "source": [
    "x=[a[0] for a in ratings_count.items()]\n",
    "y=[a[1] for a in ratings_count.items()]\n",
    "plt.bar(x,y)"
   ]
  },
  {
   "cell_type": "markdown",
   "metadata": {},
   "source": [
    "### Ratings are heavily skewed towards favorable.  "
   ]
  },
  {
   "cell_type": "code",
   "execution_count": 16,
   "metadata": {
    "ExecuteTime": {
     "end_time": "2017-07-13T18:55:31.559846Z",
     "start_time": "2017-07-13T18:55:31.503752Z"
    }
   },
   "outputs": [
    {
     "data": {
      "text/plain": [
       "4.5244438146521189"
      ]
     },
     "execution_count": 16,
     "metadata": {},
     "output_type": "execute_result"
    }
   ],
   "source": [
    "(np.asarray(x) * np.asarray(y)).sum()/7057"
   ]
  },
  {
   "cell_type": "code",
   "execution_count": 17,
   "metadata": {
    "ExecuteTime": {
     "end_time": "2017-07-13T18:55:31.632411Z",
     "start_time": "2017-07-13T18:55:31.567069Z"
    }
   },
   "outputs": [
    {
     "data": {
      "text/plain": [
       "4.5244438146521189"
      ]
     },
     "execution_count": 17,
     "metadata": {},
     "output_type": "execute_result"
    }
   ],
   "source": [
    "np.asarray(x).dot(np.asarray(y))/7057"
   ]
  },
  {
   "cell_type": "markdown",
   "metadata": {},
   "source": [
    "### Create utility matrix"
   ]
  },
  {
   "cell_type": "code",
   "execution_count": 19,
   "metadata": {
    "ExecuteTime": {
     "end_time": "2017-07-13T18:56:31.450459Z",
     "start_time": "2017-07-13T18:56:31.035648Z"
    },
    "scrolled": true
   },
   "outputs": [],
   "source": [
    "u_matrix = memrec_df.pivot_table(index=\"member_ID\", columns=\"recipe_ID\", values=\"recipe_rating\").fillna(0)"
   ]
  },
  {
   "cell_type": "code",
   "execution_count": 20,
   "metadata": {
    "ExecuteTime": {
     "end_time": "2017-07-13T18:56:33.539057Z",
     "start_time": "2017-07-13T18:56:33.473217Z"
    }
   },
   "outputs": [
    {
     "data": {
      "text/plain": [
       "(751, 4835)"
      ]
     },
     "execution_count": 20,
     "metadata": {},
     "output_type": "execute_result"
    }
   ],
   "source": [
    "u_matrix.shape"
   ]
  },
  {
   "cell_type": "code",
   "execution_count": 21,
   "metadata": {
    "ExecuteTime": {
     "end_time": "2017-07-13T18:56:34.378453Z",
     "start_time": "2017-07-13T18:56:34.183065Z"
    }
   },
   "outputs": [
    {
     "data": {
      "text/html": [
       "<div>\n",
       "<style>\n",
       "    .dataframe thead tr:only-child th {\n",
       "        text-align: right;\n",
       "    }\n",
       "\n",
       "    .dataframe thead th {\n",
       "        text-align: left;\n",
       "    }\n",
       "\n",
       "    .dataframe tbody tr th {\n",
       "        vertical-align: top;\n",
       "    }\n",
       "</style>\n",
       "<table border=\"1\" class=\"dataframe\">\n",
       "  <thead>\n",
       "    <tr style=\"text-align: right;\">\n",
       "      <th>recipe_ID</th>\n",
       "      <th>100011</th>\n",
       "      <th>100072</th>\n",
       "      <th>10011</th>\n",
       "      <th>100195</th>\n",
       "      <th>100402</th>\n",
       "      <th>10049</th>\n",
       "      <th>10056</th>\n",
       "      <th>100606</th>\n",
       "      <th>10062</th>\n",
       "      <th>10064</th>\n",
       "      <th>...</th>\n",
       "      <th>9907</th>\n",
       "      <th>99153</th>\n",
       "      <th>99244</th>\n",
       "      <th>9926</th>\n",
       "      <th>99322</th>\n",
       "      <th>9945</th>\n",
       "      <th>9958</th>\n",
       "      <th>9959</th>\n",
       "      <th>99873</th>\n",
       "      <th>9999</th>\n",
       "    </tr>\n",
       "    <tr>\n",
       "      <th>member_ID</th>\n",
       "      <th></th>\n",
       "      <th></th>\n",
       "      <th></th>\n",
       "      <th></th>\n",
       "      <th></th>\n",
       "      <th></th>\n",
       "      <th></th>\n",
       "      <th></th>\n",
       "      <th></th>\n",
       "      <th></th>\n",
       "      <th></th>\n",
       "      <th></th>\n",
       "      <th></th>\n",
       "      <th></th>\n",
       "      <th></th>\n",
       "      <th></th>\n",
       "      <th></th>\n",
       "      <th></th>\n",
       "      <th></th>\n",
       "      <th></th>\n",
       "      <th></th>\n",
       "    </tr>\n",
       "  </thead>\n",
       "  <tbody>\n",
       "    <tr>\n",
       "      <th>10090853</th>\n",
       "      <td>0.0</td>\n",
       "      <td>0.0</td>\n",
       "      <td>0.0</td>\n",
       "      <td>0.0</td>\n",
       "      <td>0.0</td>\n",
       "      <td>0.0</td>\n",
       "      <td>0.0</td>\n",
       "      <td>0.0</td>\n",
       "      <td>0.0</td>\n",
       "      <td>0.0</td>\n",
       "      <td>...</td>\n",
       "      <td>0.0</td>\n",
       "      <td>0.0</td>\n",
       "      <td>0.0</td>\n",
       "      <td>0.0</td>\n",
       "      <td>0.0</td>\n",
       "      <td>0.0</td>\n",
       "      <td>0.0</td>\n",
       "      <td>0.0</td>\n",
       "      <td>0.0</td>\n",
       "      <td>0.0</td>\n",
       "    </tr>\n",
       "    <tr>\n",
       "      <th>10125683</th>\n",
       "      <td>0.0</td>\n",
       "      <td>0.0</td>\n",
       "      <td>0.0</td>\n",
       "      <td>0.0</td>\n",
       "      <td>0.0</td>\n",
       "      <td>0.0</td>\n",
       "      <td>0.0</td>\n",
       "      <td>0.0</td>\n",
       "      <td>0.0</td>\n",
       "      <td>0.0</td>\n",
       "      <td>...</td>\n",
       "      <td>0.0</td>\n",
       "      <td>0.0</td>\n",
       "      <td>0.0</td>\n",
       "      <td>0.0</td>\n",
       "      <td>0.0</td>\n",
       "      <td>0.0</td>\n",
       "      <td>0.0</td>\n",
       "      <td>0.0</td>\n",
       "      <td>0.0</td>\n",
       "      <td>0.0</td>\n",
       "    </tr>\n",
       "    <tr>\n",
       "      <th>1022640</th>\n",
       "      <td>0.0</td>\n",
       "      <td>0.0</td>\n",
       "      <td>0.0</td>\n",
       "      <td>0.0</td>\n",
       "      <td>0.0</td>\n",
       "      <td>0.0</td>\n",
       "      <td>0.0</td>\n",
       "      <td>0.0</td>\n",
       "      <td>0.0</td>\n",
       "      <td>0.0</td>\n",
       "      <td>...</td>\n",
       "      <td>0.0</td>\n",
       "      <td>0.0</td>\n",
       "      <td>0.0</td>\n",
       "      <td>0.0</td>\n",
       "      <td>0.0</td>\n",
       "      <td>0.0</td>\n",
       "      <td>0.0</td>\n",
       "      <td>0.0</td>\n",
       "      <td>0.0</td>\n",
       "      <td>0.0</td>\n",
       "    </tr>\n",
       "    <tr>\n",
       "      <th>1031281</th>\n",
       "      <td>0.0</td>\n",
       "      <td>0.0</td>\n",
       "      <td>0.0</td>\n",
       "      <td>0.0</td>\n",
       "      <td>0.0</td>\n",
       "      <td>0.0</td>\n",
       "      <td>0.0</td>\n",
       "      <td>0.0</td>\n",
       "      <td>0.0</td>\n",
       "      <td>0.0</td>\n",
       "      <td>...</td>\n",
       "      <td>0.0</td>\n",
       "      <td>0.0</td>\n",
       "      <td>0.0</td>\n",
       "      <td>0.0</td>\n",
       "      <td>0.0</td>\n",
       "      <td>0.0</td>\n",
       "      <td>0.0</td>\n",
       "      <td>0.0</td>\n",
       "      <td>0.0</td>\n",
       "      <td>0.0</td>\n",
       "    </tr>\n",
       "    <tr>\n",
       "      <th>10327182</th>\n",
       "      <td>0.0</td>\n",
       "      <td>0.0</td>\n",
       "      <td>0.0</td>\n",
       "      <td>0.0</td>\n",
       "      <td>0.0</td>\n",
       "      <td>0.0</td>\n",
       "      <td>0.0</td>\n",
       "      <td>0.0</td>\n",
       "      <td>0.0</td>\n",
       "      <td>0.0</td>\n",
       "      <td>...</td>\n",
       "      <td>0.0</td>\n",
       "      <td>0.0</td>\n",
       "      <td>0.0</td>\n",
       "      <td>0.0</td>\n",
       "      <td>0.0</td>\n",
       "      <td>0.0</td>\n",
       "      <td>0.0</td>\n",
       "      <td>0.0</td>\n",
       "      <td>0.0</td>\n",
       "      <td>0.0</td>\n",
       "    </tr>\n",
       "  </tbody>\n",
       "</table>\n",
       "<p>5 rows × 4835 columns</p>\n",
       "</div>"
      ],
      "text/plain": [
       "recipe_ID  100011  100072  10011  100195  100402  10049  10056  100606  10062  \\\n",
       "member_ID                                                                       \n",
       "10090853      0.0     0.0    0.0     0.0     0.0    0.0    0.0     0.0    0.0   \n",
       "10125683      0.0     0.0    0.0     0.0     0.0    0.0    0.0     0.0    0.0   \n",
       "1022640       0.0     0.0    0.0     0.0     0.0    0.0    0.0     0.0    0.0   \n",
       "1031281       0.0     0.0    0.0     0.0     0.0    0.0    0.0     0.0    0.0   \n",
       "10327182      0.0     0.0    0.0     0.0     0.0    0.0    0.0     0.0    0.0   \n",
       "\n",
       "recipe_ID  10064  ...   9907  99153  99244  9926  99322  9945  9958  9959  \\\n",
       "member_ID         ...                                                       \n",
       "10090853     0.0  ...    0.0    0.0    0.0   0.0    0.0   0.0   0.0   0.0   \n",
       "10125683     0.0  ...    0.0    0.0    0.0   0.0    0.0   0.0   0.0   0.0   \n",
       "1022640      0.0  ...    0.0    0.0    0.0   0.0    0.0   0.0   0.0   0.0   \n",
       "1031281      0.0  ...    0.0    0.0    0.0   0.0    0.0   0.0   0.0   0.0   \n",
       "10327182     0.0  ...    0.0    0.0    0.0   0.0    0.0   0.0   0.0   0.0   \n",
       "\n",
       "recipe_ID  99873  9999  \n",
       "member_ID               \n",
       "10090853     0.0   0.0  \n",
       "10125683     0.0   0.0  \n",
       "1022640      0.0   0.0  \n",
       "1031281      0.0   0.0  \n",
       "10327182     0.0   0.0  \n",
       "\n",
       "[5 rows x 4835 columns]"
      ]
     },
     "execution_count": 21,
     "metadata": {},
     "output_type": "execute_result"
    }
   ],
   "source": [
    "u_matrix.head()"
   ]
  },
  {
   "cell_type": "code",
   "execution_count": 22,
   "metadata": {
    "ExecuteTime": {
     "end_time": "2017-07-13T18:56:35.473546Z",
     "start_time": "2017-07-13T18:56:35.244833Z"
    }
   },
   "outputs": [
    {
     "data": {
      "text/plain": [
       "7054"
      ]
     },
     "execution_count": 22,
     "metadata": {},
     "output_type": "execute_result"
    }
   ],
   "source": [
    "(u_matrix>0).sum().sum()"
   ]
  },
  {
   "cell_type": "markdown",
   "metadata": {},
   "source": [
    "## 7054 ratings over 751 users and 4835 recipes.  Very sparse "
   ]
  },
  {
   "cell_type": "code",
   "execution_count": 23,
   "metadata": {
    "ExecuteTime": {
     "end_time": "2017-07-13T18:56:38.167984Z",
     "start_time": "2017-07-13T18:56:37.923703Z"
    }
   },
   "outputs": [
    {
     "data": {
      "text/plain": [
       "count    4835.000000\n",
       "mean        1.458945\n",
       "std         1.032028\n",
       "min         1.000000\n",
       "25%         1.000000\n",
       "50%         1.000000\n",
       "75%         2.000000\n",
       "max        17.000000\n",
       "dtype: float64"
      ]
     },
     "execution_count": 23,
     "metadata": {},
     "output_type": "execute_result"
    }
   ],
   "source": [
    "(u_matrix>0).sum().describe()"
   ]
  },
  {
   "cell_type": "code",
   "execution_count": 24,
   "metadata": {
    "ExecuteTime": {
     "end_time": "2017-07-13T18:56:38.968784Z",
     "start_time": "2017-07-13T18:56:38.790825Z"
    }
   },
   "outputs": [
    {
     "data": {
      "text/plain": [
       "count    751.000000\n",
       "mean       9.392810\n",
       "std        7.569511\n",
       "min        1.000000\n",
       "25%        2.000000\n",
       "50%        7.000000\n",
       "75%       18.000000\n",
       "max       20.000000\n",
       "dtype: float64"
      ]
     },
     "execution_count": 24,
     "metadata": {},
     "output_type": "execute_result"
    }
   ],
   "source": [
    "(u_matrix.T>0).sum().describe()"
   ]
  },
  {
   "cell_type": "markdown",
   "metadata": {
    "ExecuteTime": {
     "end_time": "2017-07-13T18:40:50.656832Z",
     "start_time": "2017-07-13T18:40:50.555642Z"
    }
   },
   "source": [
    "## Average 9.39 ratings per user, 1.46 ratings per recipe "
   ]
  },
  {
   "cell_type": "code",
   "execution_count": 28,
   "metadata": {
    "ExecuteTime": {
     "end_time": "2017-07-13T18:57:34.741217Z",
     "start_time": "2017-07-13T18:57:34.517783Z"
    }
   },
   "outputs": [
    {
     "name": "stdout",
     "output_type": "stream",
     "text": [
      "number of recipes with more than one review: 1398\n"
     ]
    }
   ],
   "source": [
    "print \"number of recipes with more than one review:\",(u_matrix[u_matrix>0].count() > 1).sum()"
   ]
  },
  {
   "cell_type": "code",
   "execution_count": 39,
   "metadata": {
    "ExecuteTime": {
     "end_time": "2017-07-13T19:01:50.912772Z",
     "start_time": "2017-07-13T19:01:50.167228Z"
    },
    "scrolled": true
   },
   "outputs": [
    {
     "data": {
      "text/plain": [
       "<matplotlib.axes._subplots.AxesSubplot at 0x127d96a10>"
      ]
     },
     "execution_count": 39,
     "metadata": {},
     "output_type": "execute_result"
    },
    {
     "data": {
      "image/png": "[encoded data removed]",
      "text/plain": [
       "<matplotlib.figure.Figure at 0x11e245350>"
      ]
     },
     "metadata": {},
     "output_type": "display_data"
    }
   ],
   "source": [
    "u_matrix[u_matrix>0].count().hist(bins=17)"
   ]
  },
  {
   "cell_type": "markdown",
   "metadata": {},
   "source": [
    "# Dealing with the sparsity issue: \n",
    "\n",
    "- featurize recipe ingredients.  This could be a valid way of characterizing user taste and preference for foods.  \n",
    "- consolidate user into communities \n",
    "- use dimensionality reduction"
   ]
  },
  {
   "cell_type": "code",
   "execution_count": null,
   "metadata": {
    "collapsed": true
   },
   "outputs": [],
   "source": []
  },
  {
   "cell_type": "code",
   "execution_count": 355,
   "metadata": {
    "ExecuteTime": {
     "end_time": "2017-07-04T07:17:27.352148Z",
     "start_time": "2017-07-04T07:17:27.299114Z"
    },
    "collapsed": true
   },
   "outputs": [],
   "source": [
    "from scipy import sparse\n",
    "def get_ratings_data(df): \n",
    "    \"\"\"Turn ratings dataframe into a sparse matrix\"\"\"\n",
    "    member_ids = list(df.member_ID.unique())\n",
    "    member_len = len(member_ids)\n",
    "    recipe_ids = list(df.recipe_ID.unique())\n",
    "    recipe_len = len(recipe_ids)\n",
    "#    print \"lengths:\", member_len, recipe_len\n",
    "    ratings_matrix = sparse.lil_matrix((member_len, recipe_len)) \n",
    "#    print ratings_matrix.shape\n",
    "    for _, row in df.iterrows(): \n",
    "#        print _, row\n",
    "#        print \"member_ID:{}, index:{}, recipe_ID:{}, index:{}\".format(row.member_ID, member_ids.index(row.member_ID), row.recipe_ID, recipe_ids.index(row.recipe_ID))\n",
    "        ratings_matrix[member_ids.index(row.member_ID), recipe_ids.index(row.recipe_ID)] = row.recipe_rating\n",
    "    return member_ids, recipe_ids, ratings_matrix\n",
    "    "
   ]
  },
  {
   "cell_type": "code",
   "execution_count": null,
   "metadata": {
    "collapsed": true
   },
   "outputs": [],
   "source": []
  },
  {
   "cell_type": "code",
   "execution_count": 356,
   "metadata": {
    "ExecuteTime": {
     "end_time": "2017-07-04T07:17:30.926938Z",
     "start_time": "2017-07-04T07:17:27.752139Z"
    },
    "collapsed": true,
    "scrolled": true
   },
   "outputs": [],
   "source": [
    "member_ids, recipe_ids, ratings_mat = get_ratings_data(memrec_df)"
   ]
  },
  {
   "cell_type": "code",
   "execution_count": null,
   "metadata": {
    "collapsed": true
   },
   "outputs": [],
   "source": [
    "# Why is the recipe axis greater than the number of recipes? "
   ]
  },
  {
   "cell_type": "code",
   "execution_count": 132,
   "metadata": {
    "ExecuteTime": {
     "end_time": "2017-06-30T22:11:37.841170Z",
     "start_time": "2017-06-30T22:11:29.525736Z"
    },
    "collapsed": true
   },
   "outputs": [],
   "source": [
    "# create a dict with member_ID as key and list of made and \"favorited\" recipes as value\n",
    "mem_reclist = {a['member_ID']: a['favorites_recipe_id_list'] + a['madeits_recipe_id_list'] for a in ar_db.members.find()}"
   ]
  },
  {
   "cell_type": "code",
   "execution_count": null,
   "metadata": {
    "collapsed": true
   },
   "outputs": [],
   "source": [
    "# Create utility matrix \n",
    "\n",
    "from scipy import sparse \n",
    "\n"
   ]
  },
  {
   "cell_type": "code",
   "execution_count": 133,
   "metadata": {
    "ExecuteTime": {
     "end_time": "2017-06-30T22:11:37.902200Z",
     "start_time": "2017-06-30T22:11:37.843440Z"
    },
    "scrolled": true
   },
   "outputs": [
    {
     "name": "stdout",
     "output_type": "stream",
     "text": [
      "total number of recipes: 13173\n"
     ]
    }
   ],
   "source": [
    "# Create set of all recipes\n",
    "all_recs = set([a for b in mem_reclist.values() for a in b])\n",
    "print \"total number of recipes:\", len(all_recs)"
   ]
  },
  {
   "cell_type": "code",
   "execution_count": null,
   "metadata": {
    "collapsed": true
   },
   "outputs": [],
   "source": []
  },
  {
   "cell_type": "code",
   "execution_count": 134,
   "metadata": {
    "ExecuteTime": {
     "end_time": "2017-07-01T02:35:58.322776Z",
     "start_time": "2017-07-01T02:35:57.207274Z"
    },
    "collapsed": true
   },
   "outputs": [],
   "source": [
    "from sklearn.feature_extraction.text import CountVectorizer"
   ]
  },
  {
   "cell_type": "code",
   "execution_count": 136,
   "metadata": {
    "ExecuteTime": {
     "end_time": "2017-07-01T02:37:13.046172Z",
     "start_time": "2017-07-01T02:37:12.989542Z"
    },
    "collapsed": true
   },
   "outputs": [],
   "source": [
    "memrec_vectorizerd = CountVectorizer(mem_reclist)"
   ]
  },
  {
   "cell_type": "code",
   "execution_count": null,
   "metadata": {
    "collapsed": true
   },
   "outputs": [],
   "source": [
    "memrec_vectorizerd."
   ]
  },
  {
   "cell_type": "code",
   "execution_count": null,
   "metadata": {
    "collapsed": true
   },
   "outputs": [],
   "source": [
    "# Create edge weights using jaccard similarity of recipes made/favorited \n",
    "\n",
    "def member_similarity(X, min_rec_num=5):\n",
    "    \"\"\"given a dict of {member_ID:recipes_list}, calculate pairwise \n",
    "    similarity.    \n",
    "    \"\"\"\n",
    "    common_set = set.intersection()"
   ]
  },
  {
   "cell_type": "code",
   "execution_count": 20,
   "metadata": {
    "ExecuteTime": {
     "end_time": "2017-06-30T19:06:23.389407Z",
     "start_time": "2017-06-30T19:06:23.336978Z"
    },
    "collapsed": true
   },
   "outputs": [],
   "source": [
    "G = nx.DiGraph()"
   ]
  },
  {
   "cell_type": "code",
   "execution_count": 21,
   "metadata": {
    "ExecuteTime": {
     "end_time": "2017-06-30T19:07:44.462145Z",
     "start_time": "2017-06-30T19:07:44.363820Z"
    },
    "collapsed": true
   },
   "outputs": [],
   "source": [
    "G.add_nodes_from(mem_reclist)"
   ]
  },
  {
   "cell_type": "code",
   "execution_count": 22,
   "metadata": {
    "ExecuteTime": {
     "end_time": "2017-06-30T19:08:03.738413Z",
     "start_time": "2017-06-30T19:08:03.216848Z"
    }
   },
   "outputs": [
    {
     "name": "stdout",
     "output_type": "stream",
     "text": [
      "Name: \n",
      "Type: DiGraph\n",
      "Number of nodes: 1430\n",
      "Number of edges: 0\n",
      "Average in degree:   0.0000\n",
      "Average out degree:   0.0000\n"
     ]
    }
   ],
   "source": [
    "print nx.info(G)"
   ]
  },
  {
   "cell_type": "code",
   "execution_count": 23,
   "metadata": {
    "ExecuteTime": {
     "end_time": "2017-06-30T19:11:41.109176Z",
     "start_time": "2017-06-30T19:11:40.562221Z"
    },
    "collapsed": true
   },
   "outputs": [],
   "source": [
    "G_ud = nx.Graph()"
   ]
  },
  {
   "cell_type": "code",
   "execution_count": 42,
   "metadata": {
    "ExecuteTime": {
     "end_time": "2017-06-30T19:20:16.110908Z",
     "start_time": "2017-06-30T19:20:16.043285Z"
    }
   },
   "outputs": [
    {
     "ename": "TypeError",
     "evalue": "add_nodes_from() takes exactly 2 arguments (3 given)",
     "output_type": "error",
     "traceback": [
      "\u001b[0;31m---------------------------------------------------------------------------\u001b[0m",
      "\u001b[0;31mTypeError\u001b[0m                                 Traceback (most recent call last)",
      "\u001b[0;32m<ipython-input-42-73dcaae38067>\u001b[0m in \u001b[0;36m<module>\u001b[0;34m()\u001b[0m\n\u001b[0;32m----> 1\u001b[0;31m \u001b[0mG\u001b[0m\u001b[0;34m.\u001b[0m\u001b[0madd_nodes_from\u001b[0m\u001b[0;34m(\u001b[0m\u001b[0mmem_reclist\u001b[0m\u001b[0;34m,\u001b[0m \u001b[0mmem_reclist\u001b[0m\u001b[0;34m.\u001b[0m\u001b[0mitems\u001b[0m\u001b[0;34m(\u001b[0m\u001b[0;34m)\u001b[0m\u001b[0;34m)\u001b[0m\u001b[0;34m\u001b[0m\u001b[0m\n\u001b[0m",
      "\u001b[0;31mTypeError\u001b[0m: add_nodes_from() takes exactly 2 arguments (3 given)"
     ]
    }
   ],
   "source": [
    "G.add_nodes_from(mem_reclist, mem_reclist.items())"
   ]
  },
  {
   "cell_type": "code",
   "execution_count": 34,
   "metadata": {
    "ExecuteTime": {
     "end_time": "2017-06-30T19:16:22.389661Z",
     "start_time": "2017-06-30T19:16:22.349559Z"
    },
    "collapsed": true,
    "scrolled": true
   },
   "outputs": [],
   "source": [
    "memswrecs = {a: {\"recipes\":mem_reclist[a]} for a in  mem_reclist}"
   ]
  },
  {
   "cell_type": "code",
   "execution_count": 44,
   "metadata": {
    "ExecuteTime": {
     "end_time": "2017-06-30T19:23:21.961936Z",
     "start_time": "2017-06-30T19:23:21.922596Z"
    },
    "collapsed": true
   },
   "outputs": [],
   "source": [
    "G = nx.Graph()"
   ]
  },
  {
   "cell_type": "code",
   "execution_count": 45,
   "metadata": {
    "ExecuteTime": {
     "end_time": "2017-06-30T19:23:22.415801Z",
     "start_time": "2017-06-30T19:23:22.373780Z"
    },
    "collapsed": true
   },
   "outputs": [],
   "source": [
    "G.add_nodes_from(memswrecs)"
   ]
  },
  {
   "cell_type": "code",
   "execution_count": 46,
   "metadata": {
    "ExecuteTime": {
     "end_time": "2017-06-30T19:23:24.406543Z",
     "start_time": "2017-06-30T19:23:24.367124Z"
    }
   },
   "outputs": [
    {
     "data": {
      "text/plain": [
       "[(u'4444341', {}),\n",
       " (u'2308478', {}),\n",
       " (u'15178027', {}),\n",
       " (u'12373662', {}),\n",
       " (u'11205760', {}),\n",
       " (u'2717927', {}),\n",
       " (u'dabratcarol', {}),\n",
       " (u'3304107', {}),\n",
       " (u'1057997', {}),\n",
       " (u'14225928', {})]"
      ]
     },
     "execution_count": 46,
     "metadata": {},
     "output_type": "execute_result"
    }
   ],
   "source": [
    "G.node.items()[-10:]\n"
   ]
  },
  {
   "cell_type": "code",
   "execution_count": 43,
   "metadata": {
    "ExecuteTime": {
     "end_time": "2017-06-30T19:23:06.075170Z",
     "start_time": "2017-06-30T19:23:05.558069Z"
    }
   },
   "outputs": [
    {
     "data": {
      "text/plain": [
       "[(u'11696795', {}),\n",
       " (u'9358065', {}),\n",
       " (u'6916379', {}),\n",
       " (u'3936048', {}),\n",
       " (u'17756010', {}),\n",
       " (u'15075345', {}),\n",
       " (u'20778468', {}),\n",
       " (u'861951', {}),\n",
       " (u'17180722', {}),\n",
       " (u'14286702', {}),\n",
       " (u'16914429', {}),\n",
       " (u'10779188', {}),\n",
       " (u'7353004', {}),\n",
       " (u'8231224', {}),\n",
       " (u'2690535', {}),\n",
       " (u'3700349', {}),\n",
       " (u'18159234', {}),\n",
       " (u'6026940', {}),\n",
       " (u'3645771', {}),\n",
       " (u'2175240', {}),\n",
       " (u'20252096', {}),\n",
       " (u'5639515', {}),\n",
       " (u'3681406', {}),\n",
       " (u'17441272', {}),\n",
       " (u'12760889', {}),\n",
       " (u'3437644', {}),\n",
       " (u'2191253', {}),\n",
       " (u'2943887', {}),\n",
       " (u'18101285', {}),\n",
       " (u'2437768', {}),\n",
       " (u'9367452', {}),\n",
       " (u'17796327', {}),\n",
       " (u'11666019', {}),\n",
       " (u'2541120', {}),\n",
       " (u'17505543', {}),\n",
       " (u'debbiedoo', {}),\n",
       " (u'16496432', {}),\n",
       " (u'1945177', {}),\n",
       " (u'4846208', {}),\n",
       " (u'9522289', {}),\n",
       " (u'3144338', {}),\n",
       " (u'2169859', {}),\n",
       " (u'5360253', {}),\n",
       " (u'16425130', {}),\n",
       " (u'4181639', {}),\n",
       " (u'8722660', {}),\n",
       " (u'824077', {}),\n",
       " (u'3469144', {}),\n",
       " (u'17167863', {}),\n",
       " (u'13873095', {}),\n",
       " (u'2340061', {}),\n",
       " (u'4150065', {}),\n",
       " (u'12954843', {}),\n",
       " (u'2016123', {}),\n",
       " (u'spike', {}),\n",
       " (u'9829782', {}),\n",
       " (u'1144180', {}),\n",
       " (u'15937249', {}),\n",
       " (u'7907016', {}),\n",
       " (u'1022640', {}),\n",
       " (u'16847535', {}),\n",
       " (u'11746669', {}),\n",
       " (u'15351642', {}),\n",
       " (u'luckynoodles', {}),\n",
       " (u'13954563', {}),\n",
       " (u'3021888', {}),\n",
       " (u'4145220', {}),\n",
       " (u'12127244', {}),\n",
       " (u'16993119', {}),\n",
       " (u'3256334', {}),\n",
       " (u'15814980', {}),\n",
       " (u'14494033', {}),\n",
       " (u'4201410', {}),\n",
       " (u'15211369', {}),\n",
       " (u'7726905', {}),\n",
       " (u'9867899', {}),\n",
       " (u'18029473', {}),\n",
       " (u'20282857', {}),\n",
       " (u'5538899', {}),\n",
       " (u'9335756', {}),\n",
       " (u'17621952', {}),\n",
       " (u'elizabeth', {}),\n",
       " (u'2346034', {}),\n",
       " (u'8434747', {}),\n",
       " (u'17247998', {}),\n",
       " (u'8799627', {}),\n",
       " (u'433392', {}),\n",
       " (u'18331495', {}),\n",
       " (u'5421993', {}),\n",
       " (u'801872', {}),\n",
       " (u'12341868', {}),\n",
       " (u'2366486', {}),\n",
       " (u'lightedway', {}),\n",
       " (u'20260877', {}),\n",
       " (u'17897861', {}),\n",
       " (u'17309002', {}),\n",
       " (u'16783660', {}),\n",
       " (u'17877447', {}),\n",
       " (u'17843894', {}),\n",
       " (u'1473021', {}),\n",
       " (u'2475198', {}),\n",
       " (u'10544954', {}),\n",
       " (u'18084333', {}),\n",
       " (u'szyq11', {}),\n",
       " (u'dwfalls78', {}),\n",
       " (u'16217948', {}),\n",
       " (u'13112488', {}),\n",
       " (u'17331955', {}),\n",
       " (u'11646012', {}),\n",
       " (u'10362783', {}),\n",
       " (u'477960', {}),\n",
       " (u'2895191', {}),\n",
       " (u'1452636', {}),\n",
       " (u'11284208', {}),\n",
       " (u'11435992', {}),\n",
       " (u'20302584', {}),\n",
       " (u'2197644', {}),\n",
       " (u'4607150', {}),\n",
       " (u'15314375', {}),\n",
       " (u'8415032', {}),\n",
       " (u'17029104', {}),\n",
       " (u'305573', {}),\n",
       " (u'1804135', {}),\n",
       " (u'20751455', {}),\n",
       " (u'17103147', {}),\n",
       " (u'16493704', {}),\n",
       " (u'558873', {}),\n",
       " (u'15611466', {}),\n",
       " (u'3427435', {}),\n",
       " (u'3571626', {}),\n",
       " (u'3047519', {}),\n",
       " (u'12767021', {}),\n",
       " (u'5658050', {}),\n",
       " (u'4859904', {}),\n",
       " (u'15521350', {}),\n",
       " (u'1922770', {}),\n",
       " (u'19981951', {}),\n",
       " (u'17291610', {}),\n",
       " (u'3210810', {}),\n",
       " (u'6571054', {}),\n",
       " (u'2118711', {}),\n",
       " (u'438707', {}),\n",
       " (u'3328021', {}),\n",
       " (u'15349724', {}),\n",
       " (u'palysiak', {}),\n",
       " (u'6707086', {}),\n",
       " (u'997941', {}),\n",
       " (u'10599596', {}),\n",
       " (u'4790369', {}),\n",
       " (u'836969', {}),\n",
       " (u'5368514', {}),\n",
       " (u'4193278', {}),\n",
       " (u'2333888', {}),\n",
       " (u'17008370', {}),\n",
       " (u'11113834', {}),\n",
       " (u'redravenkitchen', {}),\n",
       " (u'8264891', {}),\n",
       " (u'5850855', {}),\n",
       " (u'2518951', {}),\n",
       " (u'12351182', {}),\n",
       " (u'17255649', {}),\n",
       " (u'17915880', {}),\n",
       " (u'youonlyliveonce', {}),\n",
       " (u'15004642', {}),\n",
       " (u'14316378', {}),\n",
       " (u'17363323', {}),\n",
       " (u'3742225', {}),\n",
       " (u'15311093', {}),\n",
       " (u'6054366', {}),\n",
       " (u'20446200', {}),\n",
       " (u'14775562', {}),\n",
       " (u'15658251', {}),\n",
       " (u'1031281', {}),\n",
       " (u'3218016', {}),\n",
       " (u'4123915', {}),\n",
       " (u'5026732', {}),\n",
       " (u'8889403', {}),\n",
       " (u'7564453', {}),\n",
       " (u'16783059', {}),\n",
       " (u'2104831', {}),\n",
       " (u'2485195', {}),\n",
       " (u'1372674', {}),\n",
       " (u'1875886', {}),\n",
       " (u'1730569', {}),\n",
       " (u'20065789', {}),\n",
       " (u'7774494', {}),\n",
       " (u'2146930', {}),\n",
       " (u'8819772', {}),\n",
       " (u'9532429', {}),\n",
       " (u'17349660', {}),\n",
       " (u'theempathiccook', {}),\n",
       " (u'18222355', {}),\n",
       " (u'15266894', {}),\n",
       " (u'563780', {}),\n",
       " (u'7820149', {}),\n",
       " (u'1248157', {}),\n",
       " (u'15834917', {}),\n",
       " (u'11304959', {}),\n",
       " (u'7990257', {}),\n",
       " (u'17386504', {}),\n",
       " (u'16006943', {}),\n",
       " (u'11522569', {}),\n",
       " (u'10889568', {}),\n",
       " (u'20047353', {}),\n",
       " (u'17136208', {}),\n",
       " (u'8382402', {}),\n",
       " (u'hansonmansion', {}),\n",
       " (u'marianne1', {}),\n",
       " (u'16776742', {}),\n",
       " (u'6145350', {}),\n",
       " (u'4890886', {}),\n",
       " (u'17589211', {}),\n",
       " (u'469455', {}),\n",
       " (u'3197595', {}),\n",
       " (u'6654113', {}),\n",
       " (u'15234165', {}),\n",
       " (u'2517439', {}),\n",
       " (u'6146734', {}),\n",
       " (u'1476783', {}),\n",
       " (u'16740360', {}),\n",
       " (u'8321129', {}),\n",
       " (u'8754177', {}),\n",
       " (u'1040418', {}),\n",
       " (u'daddio-on-patio', {}),\n",
       " (u'7761606', {}),\n",
       " (u'7932576', {}),\n",
       " (u'3424523', {}),\n",
       " (u'chrisdukes', {}),\n",
       " (u'570494', {}),\n",
       " (u'17550011', {}),\n",
       " (u'bookmarker', {}),\n",
       " (u'19821', {}),\n",
       " (u'13740988', {}),\n",
       " (u'2428045', {}),\n",
       " (u'17725313', {}),\n",
       " (u'13855555', {}),\n",
       " (u'slg', {}),\n",
       " (u'8030606', {}),\n",
       " (u'18220266', {}),\n",
       " (u'16777298', {}),\n",
       " (u'1290337', {}),\n",
       " (u'6853373', {}),\n",
       " (u'3549917', {}),\n",
       " (u'13673518', {}),\n",
       " (u'13666691', {}),\n",
       " (u'2644391', {}),\n",
       " (u'884653', {}),\n",
       " (u'17510652', {}),\n",
       " (u'3342584', {}),\n",
       " (u'16251101', {}),\n",
       " (u'5986607', {}),\n",
       " (u'18052735', {}),\n",
       " (u'6998597', {}),\n",
       " (u'10805127', {}),\n",
       " (u'15936596', {}),\n",
       " (u'2079610', {}),\n",
       " (u'18128261', {}),\n",
       " (u'4114360', {}),\n",
       " (u'1714340', {}),\n",
       " (u'20226196', {}),\n",
       " (u'12603202', {}),\n",
       " (u'13358246', {}),\n",
       " (u'12018166', {}),\n",
       " (u'12247861', {}),\n",
       " (u'20793734', {}),\n",
       " (u'11952395', {}),\n",
       " (u'13254420', {}),\n",
       " (u'5991606', {}),\n",
       " (u'16309876', {}),\n",
       " (u'5979271', {}),\n",
       " (u'17587008', {}),\n",
       " (u'2495736', {}),\n",
       " (u'14377520', {}),\n",
       " (u'7065151', {}),\n",
       " (u'8280195', {}),\n",
       " (u'12628323', {}),\n",
       " (u'2964287', {}),\n",
       " (u'10858055', {}),\n",
       " (u'17322346', {}),\n",
       " (u'kirbyzmom', {}),\n",
       " (u'gourmetshand', {}),\n",
       " (u'634709', {}),\n",
       " (u'11804949', {}),\n",
       " (u'5261933', {}),\n",
       " (u'607049', {}),\n",
       " (u'1197729', {}),\n",
       " (u'1812047', {}),\n",
       " (u'16938712', {}),\n",
       " (u'15127810', {}),\n",
       " (u'14843743', {}),\n",
       " (u'18021004', {}),\n",
       " (u'17260076', {}),\n",
       " (u'3507813', {}),\n",
       " (u'8285837', {}),\n",
       " (u'808828', {}),\n",
       " (u'7613981', {}),\n",
       " (u'7060201', {}),\n",
       " (u'15680504', {}),\n",
       " (u'17762984', {}),\n",
       " (u'19324613', {}),\n",
       " (u'4758855', {}),\n",
       " (u'1147829', {}),\n",
       " (u'3149948', {}),\n",
       " (u'16944287', {}),\n",
       " (u'593571', {}),\n",
       " (u'12097096', {}),\n",
       " (u'1810797', {}),\n",
       " (u'livlovestoeat', {}),\n",
       " (u'10125683', {}),\n",
       " (u'6052004', {}),\n",
       " (u'20257765', {}),\n",
       " (u'4345897', {}),\n",
       " (u'17668851', {}),\n",
       " (u'12673197', {}),\n",
       " (u'3417576', {}),\n",
       " (u'8113762', {}),\n",
       " (u'6428026', {}),\n",
       " (u'340622', {}),\n",
       " (u'6002321', {}),\n",
       " (u'16986930', {}),\n",
       " (u'17033836', {}),\n",
       " (u'11086613', {}),\n",
       " (u'marcyy', {}),\n",
       " (u'2118734', {}),\n",
       " (u'20710356', {}),\n",
       " (u'20252195', {}),\n",
       " (u'9938141', {}),\n",
       " (u'7696311', {}),\n",
       " (u'4781059', {}),\n",
       " (u'4033737', {}),\n",
       " (u'16085623', {}),\n",
       " (u'17525931', {}),\n",
       " (u'968171', {}),\n",
       " (u'3226366', {}),\n",
       " (u'2991691', {}),\n",
       " (u'3706709', {}),\n",
       " (u'6242390', {}),\n",
       " (u'309322', {}),\n",
       " (u'951570', {}),\n",
       " (u'13545037', {}),\n",
       " (u'2856948', {}),\n",
       " (u'7789435', {}),\n",
       " (u'10570694', {}),\n",
       " (u'lisaanneaster', {}),\n",
       " (u'7638363', {}),\n",
       " (u'4283163', {}),\n",
       " (u'1117397', {}),\n",
       " (u'4348169', {}),\n",
       " (u'16650396', {}),\n",
       " (u'5255353', {}),\n",
       " (u'17167726', {}),\n",
       " (u'15068588', {}),\n",
       " (u'15571988', {}),\n",
       " (u'8662480', {}),\n",
       " (u'17894325', {}),\n",
       " (u'17538387', {}),\n",
       " (u'5175308', {}),\n",
       " (u'6492551', {}),\n",
       " (u'17505711', {}),\n",
       " (u'16659563', {}),\n",
       " (u'17683947', {}),\n",
       " (u'16692137', {}),\n",
       " (u'7331896', {}),\n",
       " (u'16773128', {}),\n",
       " (u'11598982', {}),\n",
       " (u'1200441', {}),\n",
       " (u'18257085', {}),\n",
       " (u'17801073', {}),\n",
       " (u'20645265', {}),\n",
       " (u'4509353', {}),\n",
       " (u'15010535', {}),\n",
       " (u'3894894', {}),\n",
       " (u'16834541', {}),\n",
       " (u'15175688', {}),\n",
       " (u'1503742', {}),\n",
       " (u'12291987', {}),\n",
       " (u'3482435', {}),\n",
       " (u'3706856', {}),\n",
       " (u'7340623', {}),\n",
       " (u'2566684', {}),\n",
       " (u'948920', {}),\n",
       " (u'1154050', {}),\n",
       " (u'17881612', {}),\n",
       " (u'385747', {}),\n",
       " (u'9614262', {}),\n",
       " (u'17122568', {}),\n",
       " (u'4843633', {}),\n",
       " (u'11335258', {}),\n",
       " (u'17117019', {}),\n",
       " (u'17180168', {}),\n",
       " (u'4855795', {}),\n",
       " (u'1785173', {}),\n",
       " (u'12953520', {}),\n",
       " (u'15045879', {}),\n",
       " (u'5195340', {}),\n",
       " (u'5250012', {}),\n",
       " (u'2275146', {}),\n",
       " (u'cynth', {}),\n",
       " (u'shorecook', {}),\n",
       " (u'9060047', {}),\n",
       " (u'7528372', {}),\n",
       " (u'1338728', {}),\n",
       " (u'16975644', {}),\n",
       " (u'7539085', {}),\n",
       " (u'4818921', {}),\n",
       " (u'1820848', {}),\n",
       " (u'12432566', {}),\n",
       " (u'3121292', {}),\n",
       " (u'3566922', {}),\n",
       " (u'11723511', {}),\n",
       " (u'19984249', {}),\n",
       " (u'1429130', {}),\n",
       " (u'18195780', {}),\n",
       " (u'6081780', {}),\n",
       " (u'souy', {}),\n",
       " (u'1792095', {}),\n",
       " (u'11418183', {}),\n",
       " (u'18106271', {}),\n",
       " (u'13872279', {}),\n",
       " (u'whitwhit', {}),\n",
       " (u'13607656', {}),\n",
       " (u'2078203', {}),\n",
       " (u'arcally', {}),\n",
       " (u'12892875', {}),\n",
       " (u'20006780', {}),\n",
       " (u'9300312', {}),\n",
       " (u'15413840', {}),\n",
       " (u'2590207', {}),\n",
       " (u'9706830', {}),\n",
       " (u'14948667', {}),\n",
       " (u'4378184', {}),\n",
       " (u'17370070', {}),\n",
       " (u'20286658', {}),\n",
       " (u'12227677', {}),\n",
       " (u'17661156', {}),\n",
       " (u'742620', {}),\n",
       " (u'20652753', {}),\n",
       " (u'12916032', {}),\n",
       " (u'4713751', {}),\n",
       " (u'14197244', {}),\n",
       " (u'11669543', {}),\n",
       " (u'11009874', {}),\n",
       " (u'234814', {}),\n",
       " (u'17813680', {}),\n",
       " (u'9949804', {}),\n",
       " (u'19978753', {}),\n",
       " (u'1671651', {}),\n",
       " (u'3693319', {}),\n",
       " (u'4835671', {}),\n",
       " (u'crystalmeth', {}),\n",
       " (u'10139280', {}),\n",
       " (u'2115813', {}),\n",
       " (u'3760545', {}),\n",
       " (u'902489', {}),\n",
       " (u'2809616', {}),\n",
       " (u'18096652', {}),\n",
       " (u'steelmagnolia', {}),\n",
       " (u'6709991', {}),\n",
       " (u'17858567', {}),\n",
       " (u'1776987', {}),\n",
       " (u'6242560', {}),\n",
       " (u'6634501', {}),\n",
       " (u'17762645', {}),\n",
       " (u'2769478', {}),\n",
       " (u'chefbourne', {}),\n",
       " (u'18105122', {}),\n",
       " (u'9767726', {}),\n",
       " (u'12353003', {}),\n",
       " (u'17653636', {}),\n",
       " (u'931633', {}),\n",
       " (u'9680254', {}),\n",
       " (u'13605476', {}),\n",
       " (u'3248888', {}),\n",
       " (u'9203190', {}),\n",
       " (u'4273564', {}),\n",
       " (u'19981684', {}),\n",
       " (u'5512990', {}),\n",
       " (u'11285959', {}),\n",
       " (u'josephineroeper', {}),\n",
       " (u'176557', {}),\n",
       " (u'nicholio', {}),\n",
       " (u'7058928', {}),\n",
       " (u'16785806', {}),\n",
       " (u'8970892', {}),\n",
       " (u'2559086', {}),\n",
       " (u'12650300', {}),\n",
       " (u'17702322', {}),\n",
       " (u'2499182', {}),\n",
       " (u'16243840', {}),\n",
       " (u'8441632', {}),\n",
       " (u'17117897', {}),\n",
       " (u'5171236', {}),\n",
       " (u'1567825', {}),\n",
       " (u'5220899', {}),\n",
       " (u'lauraann1115', {}),\n",
       " (u'730190', {}),\n",
       " (u'17385400', {}),\n",
       " (u'1532184', {}),\n",
       " (u'734762', {}),\n",
       " (u'3291667', {}),\n",
       " (u'2490031', {}),\n",
       " (u'17499754', {}),\n",
       " (u'12856729', {}),\n",
       " (u'10788491', {}),\n",
       " (u'17917782', {}),\n",
       " (u'18145844', {}),\n",
       " (u'17829342', {}),\n",
       " (u'6811126', {}),\n",
       " (u'7818123', {}),\n",
       " (u'4013214', {}),\n",
       " (u'17218223', {}),\n",
       " (u'1369735', {}),\n",
       " (u'2136139', {}),\n",
       " (u'5443447', {}),\n",
       " (u'6227892', {}),\n",
       " (u'9634222', {}),\n",
       " (u'17424522', {}),\n",
       " (u'17579557', {}),\n",
       " (u'2475269', {}),\n",
       " (u'13463451', {}),\n",
       " (u'9327641', {}),\n",
       " (u'17724527', {}),\n",
       " (u'20343767', {}),\n",
       " (u'16728941', {}),\n",
       " (u'17843031', {}),\n",
       " (u'16349780', {}),\n",
       " (u'rocklobster', {}),\n",
       " (u'15621615', {}),\n",
       " (u'16367178', {}),\n",
       " (u'simplysundays', {}),\n",
       " (u'8429309', {}),\n",
       " (u'11241520', {}),\n",
       " (u'3423686', {}),\n",
       " (u'kathiebrundege', {}),\n",
       " (u'16545130', {}),\n",
       " (u'5049040', {}),\n",
       " (u'3329578', {}),\n",
       " (u'6867986', {}),\n",
       " (u'17013510', {}),\n",
       " (u'3006554', {}),\n",
       " (u'4395548', {}),\n",
       " (u'10944722', {}),\n",
       " (u'3240642', {}),\n",
       " (u'8658967', {}),\n",
       " (u'17878853', {}),\n",
       " (u'4315106', {}),\n",
       " (u'dluttmann', {}),\n",
       " (u'docsimonson', {}),\n",
       " (u'15815033', {}),\n",
       " (u'5399113', {}),\n",
       " (u'11864282', {}),\n",
       " (u'6037947', {}),\n",
       " (u'17550192', {}),\n",
       " (u'14305903', {}),\n",
       " (u'1504798', {}),\n",
       " (u'17946349', {}),\n",
       " (u'12171351', {}),\n",
       " (u'12736647', {}),\n",
       " (u'grumpygrandpa', {}),\n",
       " (u'16318495', {}),\n",
       " (u'763565', {}),\n",
       " (u'4982594', {}),\n",
       " (u'1263064', {}),\n",
       " (u'4425819', {}),\n",
       " (u'9499201', {}),\n",
       " (u'13304653', {}),\n",
       " (u'12748861', {}),\n",
       " (u'kathylee', {}),\n",
       " (u'8273896', {}),\n",
       " (u'9473700', {}),\n",
       " (u'17225989', {}),\n",
       " (u'3066572', {}),\n",
       " (u'eyeluv2katz', {}),\n",
       " (u'20721532', {}),\n",
       " (u'3886285', {}),\n",
       " (u'5193645', {}),\n",
       " (u'13230665', {}),\n",
       " (u'3987300', {}),\n",
       " (u'626019', {}),\n",
       " (u'2544838', {}),\n",
       " (u'11389753', {}),\n",
       " (u'14227161', {}),\n",
       " (u'2299075', {}),\n",
       " (u'79shale97', {}),\n",
       " (u'2772033', {}),\n",
       " (u'15871045', {}),\n",
       " (u'4807310', {}),\n",
       " (u'20206900', {}),\n",
       " (u'15610237', {}),\n",
       " (u'4099655', {}),\n",
       " (u'11184586', {}),\n",
       " (u'16634961', {}),\n",
       " (u'410507', {}),\n",
       " (u'5309166', {}),\n",
       " (u'4123004', {}),\n",
       " (u'4983242', {}),\n",
       " (u'11307802', {}),\n",
       " (u'oldfashionedfoodie', {}),\n",
       " (u'1546726', {}),\n",
       " (u'9011744', {}),\n",
       " (u'15992804', {}),\n",
       " (u'20790470', {}),\n",
       " (u'20012135', {}),\n",
       " (u'17016486', {}),\n",
       " (u'17016804', {}),\n",
       " (u'5083483', {}),\n",
       " (u'4826053', {}),\n",
       " (u'foodaholic', {}),\n",
       " (u'2265296', {}),\n",
       " (u'2992008', {}),\n",
       " (u'2021419', {}),\n",
       " (u'5078446', {}),\n",
       " (u'15454058', {}),\n",
       " (u'9172320', {}),\n",
       " (u'20324395', {}),\n",
       " (u'2379767', {}),\n",
       " (u'406441', {}),\n",
       " (u'11787501', {}),\n",
       " (u'4290237', {}),\n",
       " (u'17205933', {}),\n",
       " (u'4387115', {}),\n",
       " (u'13311868', {}),\n",
       " (u'666426', {}),\n",
       " (u'831361', {}),\n",
       " (u'17190575', {}),\n",
       " (u'8650567', {}),\n",
       " (u'11797576', {}),\n",
       " (u'iceemama', {}),\n",
       " (u'3853511', {}),\n",
       " (u'10543722', {}),\n",
       " (u'19980469', {}),\n",
       " (u'4072782', {}),\n",
       " (u'20491013', {}),\n",
       " (u'10682626', {}),\n",
       " (u'1576582', {}),\n",
       " (u'16279977', {}),\n",
       " (u'7352755', {}),\n",
       " (u'3040440', {}),\n",
       " (u'4085870', {}),\n",
       " (u'16374687', {}),\n",
       " (u'12256309', {}),\n",
       " (u'1171212', {}),\n",
       " (u'17400340', {}),\n",
       " (u'2417067', {}),\n",
       " (u'4396313', {}),\n",
       " (u'7783389', {}),\n",
       " (u'3848168', {}),\n",
       " (u'17925347', {}),\n",
       " (u'5964353', {}),\n",
       " (u'3942814', {}),\n",
       " (u'2016275', {}),\n",
       " (u'3737468', {}),\n",
       " (u'missourifarmwife', {}),\n",
       " (u'7762647', {}),\n",
       " (u'2317412', {}),\n",
       " (u'lobster', {}),\n",
       " (u'2644518', {}),\n",
       " (u'16796844', {}),\n",
       " (u'13271418', {}),\n",
       " (u'alleyworld', {}),\n",
       " (u'2564532', {}),\n",
       " (u'6246055', {}),\n",
       " (u'6881349', {}),\n",
       " (u'20478264', {}),\n",
       " (u'3974230', {}),\n",
       " (u'9013446', {}),\n",
       " (u'6918494', {}),\n",
       " (u'18099559', {}),\n",
       " (u'763597', {}),\n",
       " (u'milsoekend', {}),\n",
       " (u'599896', {}),\n",
       " (u'13780637', {}),\n",
       " (u'16817989', {}),\n",
       " (u'1182137', {}),\n",
       " (u'3348938', {}),\n",
       " (u'4914844', {}),\n",
       " (u'4796920', {}),\n",
       " (u'6251421', {}),\n",
       " (u'9307848', {}),\n",
       " (u'15113058', {}),\n",
       " (u'8989451', {}),\n",
       " (u'14838194', {}),\n",
       " (u'17185780', {}),\n",
       " (u'6383438', {}),\n",
       " (u'569093', {}),\n",
       " (u'8799009', {}),\n",
       " (u'20037104', {}),\n",
       " (u'4096397', {}),\n",
       " (u'5012140', {}),\n",
       " (u'5517458', {}),\n",
       " (u'13282027', {}),\n",
       " (u'1775895', {}),\n",
       " (u'5555044', {}),\n",
       " (u'7210731', {}),\n",
       " (u'7980218', {}),\n",
       " (u'5451864', {}),\n",
       " (u'16832589', {}),\n",
       " (u'3015128', {}),\n",
       " (u'3552003', {}),\n",
       " (u'14173317', {}),\n",
       " (u'1081570', {}),\n",
       " (u'11646898', {}),\n",
       " (u'7869869', {}),\n",
       " (u'4402500', {}),\n",
       " (u'20693984', {}),\n",
       " (u'duboo', {}),\n",
       " (u'1496355', {}),\n",
       " (u'13424973', {}),\n",
       " (u'3865323', {}),\n",
       " (u'11168795', {}),\n",
       " (u'17972725', {}),\n",
       " (u'18173221', {}),\n",
       " (u'4474940', {}),\n",
       " (u'16699310', {}),\n",
       " (u'eake', {}),\n",
       " (u'10789799', {}),\n",
       " (u'10331900', {}),\n",
       " (u'17255956', {}),\n",
       " (u'1171154', {}),\n",
       " (u'2364781', {}),\n",
       " (u'3240596', {}),\n",
       " (u'11625291', {}),\n",
       " (u'20718470', {}),\n",
       " (u't1ina', {}),\n",
       " (u'14500535', {}),\n",
       " (u'640895', {}),\n",
       " (u'16523419', {}),\n",
       " (u'6209688', {}),\n",
       " (u'17072763', {}),\n",
       " (u'1955126', {}),\n",
       " (u'17431168', {}),\n",
       " (u'12044528', {}),\n",
       " (u'3522787', {}),\n",
       " (u'3136846', {}),\n",
       " (u'16688312', {}),\n",
       " (u'16056169', {}),\n",
       " (u'karleen', {}),\n",
       " (u'13138520', {}),\n",
       " (u'pattyz', {}),\n",
       " (u'12059096', {}),\n",
       " (u'7245798', {}),\n",
       " (u'460973', {}),\n",
       " (u'1873358', {}),\n",
       " (u'6031466', {}),\n",
       " (u'2478767', {}),\n",
       " (u'6468216', {}),\n",
       " (u'2328399', {}),\n",
       " (u'14812504', {}),\n",
       " (u'11314510', {}),\n",
       " (u'10769402', {}),\n",
       " (u'15253654', {}),\n",
       " (u'5232982', {}),\n",
       " (u'16885283', {}),\n",
       " (u'17641410', {}),\n",
       " (u'16743107', {}),\n",
       " (u'18246552', {}),\n",
       " (u'sandra2', {}),\n",
       " (u'sandra3', {}),\n",
       " (u'3559620', {}),\n",
       " (u'frackfamily5', {}),\n",
       " (u'15184764', {}),\n",
       " (u'14839589', {}),\n",
       " (u'8738366', {}),\n",
       " (u'6676794', {}),\n",
       " (u'6019172', {}),\n",
       " (u'4404920', {}),\n",
       " (u'3795629', {}),\n",
       " (u'16960623', {}),\n",
       " (u'7311896', {}),\n",
       " (u'3807045', {}),\n",
       " (u'17322242', {}),\n",
       " (u'4322098', {}),\n",
       " (u'13081500', {}),\n",
       " (u'3648171', {}),\n",
       " (u'laraewhyte', {}),\n",
       " (u'17831534', {}),\n",
       " (u'14369253', {}),\n",
       " (u'3982531', {}),\n",
       " (u'14536702', {}),\n",
       " (u'17622862', {}),\n",
       " (u'3511017', {}),\n",
       " (u'17015938', {}),\n",
       " (u'17590491', {}),\n",
       " (u'16983407', {}),\n",
       " (u'11501776', {}),\n",
       " (u'11807916', {}),\n",
       " (u'9069293', {}),\n",
       " (u'2600707', {}),\n",
       " (u'17353578', {}),\n",
       " (u'2753412', {}),\n",
       " (u'3733363', {}),\n",
       " (u'3119751', {}),\n",
       " (u'10675545', {}),\n",
       " (u'17289399', {}),\n",
       " (u'14260264', {}),\n",
       " (u'8069214', {}),\n",
       " (u'443017', {}),\n",
       " (u'fitgal318', {}),\n",
       " (u'342976', {}),\n",
       " (u'1496200', {}),\n",
       " (u'3350006', {}),\n",
       " (u'214121', {}),\n",
       " (u'1370641', {}),\n",
       " (u'20243300', {}),\n",
       " (u'4085893', {}),\n",
       " (u'17103667', {}),\n",
       " (u'15968852', {}),\n",
       " (u'991143', {}),\n",
       " (u'9187834', {}),\n",
       " (u'3704796', {}),\n",
       " (u'1492665', {}),\n",
       " (u'10834888', {}),\n",
       " (u'7213639', {}),\n",
       " (u'13709654', {}),\n",
       " (u'17022261', {}),\n",
       " (u'17668201', {}),\n",
       " (u'731723', {}),\n",
       " (u'20217803', {}),\n",
       " (u'12210757', {}),\n",
       " (u'18191552', {}),\n",
       " (u'16505486', {}),\n",
       " (u'11738941', {}),\n",
       " (u'16791777', {}),\n",
       " (u'6523092', {}),\n",
       " (u'3549535', {}),\n",
       " (u'4670465', {}),\n",
       " (u'OliviaH_CustomerService', {}),\n",
       " (u'6027535', {}),\n",
       " (u'15379194', {}),\n",
       " (u'4604708', {}),\n",
       " (u'16989435', {}),\n",
       " (u'4974157', {}),\n",
       " (u'15776314', {}),\n",
       " (u'139334', {}),\n",
       " (u'5292981', {}),\n",
       " (u'17039473', {}),\n",
       " (u'16604546', {}),\n",
       " (u'spock', {}),\n",
       " (u'7860001', {}),\n",
       " (u'10504409', {}),\n",
       " (u'14634276', {}),\n",
       " (u'3354235', {}),\n",
       " (u'motherann', {}),\n",
       " (u'12020031', {}),\n",
       " (u'17011631', {}),\n",
       " (u'13164779', {}),\n",
       " (u'17834377', {}),\n",
       " (u'20462962', {}),\n",
       " (u'5288505', {}),\n",
       " (u'16694417', {}),\n",
       " (u'17084209', {}),\n",
       " (u'1306714', {}),\n",
       " (u'18134735', {}),\n",
       " (u'19979454', {}),\n",
       " (u'16187587', {}),\n",
       " (u'3501271', {}),\n",
       " (u'7559747', {}),\n",
       " (u'11216004', {}),\n",
       " (u'20023717', {}),\n",
       " (u'13385696', {}),\n",
       " (u'1658280', {}),\n",
       " (u'275617', {}),\n",
       " (u'7569524', {}),\n",
       " (u'1917542', {}),\n",
       " (u'1360028', {}),\n",
       " (u'4844752', {}),\n",
       " (u'3487109', {}),\n",
       " (u'17039902', {}),\n",
       " (u'4368504', {}),\n",
       " (u'4514111', {}),\n",
       " (u'1584075', {}),\n",
       " (u'3518757', {}),\n",
       " (u'6432014', {}),\n",
       " (u'7898483', {}),\n",
       " (u'9843564', {}),\n",
       " (u'16561774', {}),\n",
       " (u'17735357', {}),\n",
       " (u'13268937', {}),\n",
       " (u'9919347', {}),\n",
       " (u'9485386', {}),\n",
       " (u'1532703', {}),\n",
       " (u'9564737', {}),\n",
       " (u'4175968', {}),\n",
       " (u'3972268', {}),\n",
       " (u'8494103', {}),\n",
       " (u'15452366', {}),\n",
       " (u'12251751', {}),\n",
       " (u'6430636', {}),\n",
       " (u'11981811', {}),\n",
       " (u'5737266', {}),\n",
       " (u'13154090', {}),\n",
       " (u'16539601', {}),\n",
       " (u'judy2304', {}),\n",
       " (u'5263292', {}),\n",
       " (u'2342088', {}),\n",
       " (u'1279417', {}),\n",
       " (u'marysunshine1', {}),\n",
       " (u'1947601', {}),\n",
       " (u'6558758', {}),\n",
       " (u'1457406', {}),\n",
       " (u'12385251', {}),\n",
       " (u'sweetsavouryfoodie', {}),\n",
       " (u'16708227', {}),\n",
       " (u'3589345', {}),\n",
       " (u'3469461', {}),\n",
       " (u'17676264', {}),\n",
       " (u'10752010', {}),\n",
       " (u'9602607', {}),\n",
       " (u'20521281', {}),\n",
       " (u'16069061', {}),\n",
       " (u'20395121', {}),\n",
       " (u'3445677', {}),\n",
       " (u'4289369', {}),\n",
       " (u'9246227', {}),\n",
       " (u'17977135', {}),\n",
       " (u'18055311', {}),\n",
       " (u'2548166', {}),\n",
       " (u'20191965', {}),\n",
       " (u'17048093', {}),\n",
       " (u'celeste', {}),\n",
       " (u'14424226', {}),\n",
       " (u'16406910', {}),\n",
       " (u'12395917', {}),\n",
       " (u'12284159', {}),\n",
       " (u'11190745', {}),\n",
       " (u'20592027', {}),\n",
       " (u'20372664', {}),\n",
       " (u'17662874', {}),\n",
       " (u'12475311', {}),\n",
       " (u'2746832', {}),\n",
       " (u'13219739', {}),\n",
       " (u'20262183', {}),\n",
       " (u'16994857', {}),\n",
       " (u'17294190', {}),\n",
       " (u'18101257', {}),\n",
       " (u'14481014', {}),\n",
       " (u'6144922', {}),\n",
       " (u'thechefsisters', {}),\n",
       " (u'2146436', {}),\n",
       " (u'754438', {}),\n",
       " (u'7860073', {}),\n",
       " (u'2636377', {}),\n",
       " (u'7064297', {}),\n",
       " (u'3936863', {}),\n",
       " (u'16874900', {}),\n",
       " (u'5323827', {}),\n",
       " (u'18164029', {}),\n",
       " (u'17950295', {}),\n",
       " (u'5648847', {}),\n",
       " (u'2096772', {}),\n",
       " (u'6634550', {}),\n",
       " (u'13713756', {}),\n",
       " (u'17421397', {}),\n",
       " (u'4641020', {}),\n",
       " (u'17009464', {}),\n",
       " (u'16860167', {}),\n",
       " (u'20298096', {}),\n",
       " (u'17286250', {}),\n",
       " (u'179119', {}),\n",
       " (u'12611647', {}),\n",
       " (u'16422327', {}),\n",
       " (u'2881231', {}),\n",
       " (u'bdweld', {}),\n",
       " (u'1204854', {}),\n",
       " (u'4528456', {}),\n",
       " (u'996106', {}),\n",
       " (u'17675113', {}),\n",
       " (u'16447320', {}),\n",
       " (u'415068', {}),\n",
       " (u'15002436', {}),\n",
       " (u'187150', {}),\n",
       " (u'17071611', {}),\n",
       " (u'17056905', {}),\n",
       " (u'10412264', {}),\n",
       " (u'3084624', {}),\n",
       " (u'13950252', {}),\n",
       " (u'531982', {}),\n",
       " (u'20277712', {}),\n",
       " (u'3615026', {}),\n",
       " (u'18209630', {}),\n",
       " (u'20247663', {}),\n",
       " (u'17331904', {}),\n",
       " (u'2857010', {}),\n",
       " (u'17094775', {}),\n",
       " (u'13908466', {}),\n",
       " (u'8625899', {}),\n",
       " (u'3730318', {}),\n",
       " (u'3314098', {}),\n",
       " (u'8278932', {}),\n",
       " (u'16932257', {}),\n",
       " (u'10327182', {}),\n",
       " (u'17649591', {}),\n",
       " (u'12381215', {}),\n",
       " (u'14978794', {}),\n",
       " (u'9350388', {}),\n",
       " (u'17614706', {}),\n",
       " (u'16298306', {}),\n",
       " (u'emerggirl', {}),\n",
       " (u'15922042', {}),\n",
       " (u'3651638', {}),\n",
       " ...]"
      ]
     },
     "execution_count": 43,
     "metadata": {},
     "output_type": "execute_result"
    }
   ],
   "source": [
    "G.nodes(data=True)"
   ]
  },
  {
   "cell_type": "code",
   "execution_count": 47,
   "metadata": {
    "ExecuteTime": {
     "end_time": "2017-06-30T19:26:15.067932Z",
     "start_time": "2017-06-30T19:26:14.647007Z"
    }
   },
   "outputs": [
    {
     "data": {
      "text/plain": [
       "(u'9358065',\n",
       " [u'15075',\n",
       "  u'15075',\n",
       "  u'15174',\n",
       "  u'15174',\n",
       "  u'24202',\n",
       "  u'24202',\n",
       "  u'15995',\n",
       "  u'15995',\n",
       "  u'24094',\n",
       "  u'24094',\n",
       "  u'12133',\n",
       "  u'12133',\n",
       "  u'15880',\n",
       "  u'15880',\n",
       "  u'22544',\n",
       "  u'22544',\n",
       "  u'12196',\n",
       "  u'12196',\n",
       "  u'234803',\n",
       "  u'234803',\n",
       "  u'217922',\n",
       "  u'217922',\n",
       "  u'111823',\n",
       "  u'111823',\n",
       "  u'20690',\n",
       "  u'20690',\n",
       "  u'14685',\n",
       "  u'14685',\n",
       "  u'22861',\n",
       "  u'22861',\n",
       "  u'154321',\n",
       "  u'154321',\n",
       "  u'154851',\n",
       "  u'154851',\n",
       "  u'232850',\n",
       "  u'232850',\n",
       "  u'239993',\n",
       "  u'239993',\n",
       "  u'180118',\n",
       "  u'180118',\n",
       "  u'26317',\n",
       "  u'58942',\n",
       "  u'12377',\n",
       "  u'22544',\n",
       "  u'12196',\n",
       "  u'24094',\n",
       "  u'15880',\n",
       "  u'15075',\n",
       "  u'24202',\n",
       "  u'20144',\n",
       "  u'14685',\n",
       "  u'236274',\n",
       "  u'229780',\n",
       "  u'228283',\n",
       "  u'237140',\n",
       "  u'25225',\n",
       "  u'13353',\n",
       "  u'51013',\n",
       "  u'85452',\n",
       "  u'51535'])"
      ]
     },
     "execution_count": 47,
     "metadata": {},
     "output_type": "execute_result"
    }
   ],
   "source": [
    "mem_reclist.items()[1]"
   ]
  },
  {
   "cell_type": "code",
   "execution_count": 48,
   "metadata": {
    "ExecuteTime": {
     "end_time": "2017-06-30T19:26:29.106296Z",
     "start_time": "2017-06-30T19:26:29.063225Z"
    },
    "collapsed": true
   },
   "outputs": [],
   "source": [
    "nx.set_node_attributes(G,'recipes',mem_reclist)"
   ]
  },
  {
   "cell_type": "code",
   "execution_count": null,
   "metadata": {
    "collapsed": true
   },
   "outputs": [],
   "source": []
  },
  {
   "cell_type": "code",
   "execution_count": 49,
   "metadata": {
    "ExecuteTime": {
     "end_time": "2017-06-30T19:26:42.002212Z",
     "start_time": "2017-06-30T19:26:41.959261Z"
    }
   },
   "outputs": [
    {
     "data": {
      "text/plain": [
       "(u'9358065',\n",
       " {'recipes': [u'15075',\n",
       "   u'15075',\n",
       "   u'15174',\n",
       "   u'15174',\n",
       "   u'24202',\n",
       "   u'24202',\n",
       "   u'15995',\n",
       "   u'15995',\n",
       "   u'24094',\n",
       "   u'24094',\n",
       "   u'12133',\n",
       "   u'12133',\n",
       "   u'15880',\n",
       "   u'15880',\n",
       "   u'22544',\n",
       "   u'22544',\n",
       "   u'12196',\n",
       "   u'12196',\n",
       "   u'234803',\n",
       "   u'234803',\n",
       "   u'217922',\n",
       "   u'217922',\n",
       "   u'111823',\n",
       "   u'111823',\n",
       "   u'20690',\n",
       "   u'20690',\n",
       "   u'14685',\n",
       "   u'14685',\n",
       "   u'22861',\n",
       "   u'22861',\n",
       "   u'154321',\n",
       "   u'154321',\n",
       "   u'154851',\n",
       "   u'154851',\n",
       "   u'232850',\n",
       "   u'232850',\n",
       "   u'239993',\n",
       "   u'239993',\n",
       "   u'180118',\n",
       "   u'180118',\n",
       "   u'26317',\n",
       "   u'58942',\n",
       "   u'12377',\n",
       "   u'22544',\n",
       "   u'12196',\n",
       "   u'24094',\n",
       "   u'15880',\n",
       "   u'15075',\n",
       "   u'24202',\n",
       "   u'20144',\n",
       "   u'14685',\n",
       "   u'236274',\n",
       "   u'229780',\n",
       "   u'228283',\n",
       "   u'237140',\n",
       "   u'25225',\n",
       "   u'13353',\n",
       "   u'51013',\n",
       "   u'85452',\n",
       "   u'51535']})"
      ]
     },
     "execution_count": 49,
     "metadata": {},
     "output_type": "execute_result"
    }
   ],
   "source": [
    "G.node.items()[1]"
   ]
  },
  {
   "cell_type": "code",
   "execution_count": 51,
   "metadata": {
    "ExecuteTime": {
     "end_time": "2017-06-30T19:28:10.735388Z",
     "start_time": "2017-06-30T19:28:03.303837Z"
    },
    "collapsed": true
   },
   "outputs": [],
   "source": [
    "G_jaccard = list(nx.jaccard_coefficient(G))"
   ]
  },
  {
   "cell_type": "code",
   "execution_count": 52,
   "metadata": {
    "ExecuteTime": {
     "end_time": "2017-06-30T19:28:17.520307Z",
     "start_time": "2017-06-30T19:28:17.470590Z"
    }
   },
   "outputs": [
    {
     "data": {
      "text/plain": [
       "(u'9358065',\n",
       " {'recipes': [u'15075',\n",
       "   u'15075',\n",
       "   u'15174',\n",
       "   u'15174',\n",
       "   u'24202',\n",
       "   u'24202',\n",
       "   u'15995',\n",
       "   u'15995',\n",
       "   u'24094',\n",
       "   u'24094',\n",
       "   u'12133',\n",
       "   u'12133',\n",
       "   u'15880',\n",
       "   u'15880',\n",
       "   u'22544',\n",
       "   u'22544',\n",
       "   u'12196',\n",
       "   u'12196',\n",
       "   u'234803',\n",
       "   u'234803',\n",
       "   u'217922',\n",
       "   u'217922',\n",
       "   u'111823',\n",
       "   u'111823',\n",
       "   u'20690',\n",
       "   u'20690',\n",
       "   u'14685',\n",
       "   u'14685',\n",
       "   u'22861',\n",
       "   u'22861',\n",
       "   u'154321',\n",
       "   u'154321',\n",
       "   u'154851',\n",
       "   u'154851',\n",
       "   u'232850',\n",
       "   u'232850',\n",
       "   u'239993',\n",
       "   u'239993',\n",
       "   u'180118',\n",
       "   u'180118',\n",
       "   u'26317',\n",
       "   u'58942',\n",
       "   u'12377',\n",
       "   u'22544',\n",
       "   u'12196',\n",
       "   u'24094',\n",
       "   u'15880',\n",
       "   u'15075',\n",
       "   u'24202',\n",
       "   u'20144',\n",
       "   u'14685',\n",
       "   u'236274',\n",
       "   u'229780',\n",
       "   u'228283',\n",
       "   u'237140',\n",
       "   u'25225',\n",
       "   u'13353',\n",
       "   u'51013',\n",
       "   u'85452',\n",
       "   u'51535']})"
      ]
     },
     "execution_count": 52,
     "metadata": {},
     "output_type": "execute_result"
    }
   ],
   "source": [
    "G.node.items()[1]"
   ]
  },
  {
   "cell_type": "code",
   "execution_count": 77,
   "metadata": {
    "ExecuteTime": {
     "end_time": "2017-06-30T20:01:09.666380Z",
     "start_time": "2017-06-30T20:01:09.476749Z"
    },
    "collapsed": true
   },
   "outputs": [],
   "source": [
    "mems_df = pd.DataFrame(memswrecs).T"
   ]
  },
  {
   "cell_type": "code",
   "execution_count": 78,
   "metadata": {
    "ExecuteTime": {
     "end_time": "2017-06-30T20:01:13.897698Z",
     "start_time": "2017-06-30T20:01:13.859767Z"
    },
    "collapsed": true
   },
   "outputs": [],
   "source": [
    "mems_df.columns.names = [\"member\"]"
   ]
  },
  {
   "cell_type": "code",
   "execution_count": 79,
   "metadata": {
    "ExecuteTime": {
     "end_time": "2017-06-30T20:01:14.633125Z",
     "start_time": "2017-06-30T20:01:14.573893Z"
    },
    "scrolled": true
   },
   "outputs": [
    {
     "data": {
      "text/html": [
       "<div>\n",
       "<style>\n",
       "    .dataframe thead tr:only-child th {\n",
       "        text-align: right;\n",
       "    }\n",
       "\n",
       "    .dataframe thead th {\n",
       "        text-align: left;\n",
       "    }\n",
       "\n",
       "    .dataframe tbody tr th {\n",
       "        vertical-align: top;\n",
       "    }\n",
       "</style>\n",
       "<table border=\"1\" class=\"dataframe\">\n",
       "  <thead>\n",
       "    <tr style=\"text-align: right;\">\n",
       "      <th>member</th>\n",
       "      <th>recipes</th>\n",
       "    </tr>\n",
       "  </thead>\n",
       "  <tbody>\n",
       "    <tr>\n",
       "      <th>10090853</th>\n",
       "      <td>[25830, 25830, 72964, 72964, 237678, 237678, 2...</td>\n",
       "    </tr>\n",
       "    <tr>\n",
       "      <th>10106217</th>\n",
       "      <td>[55860, 55860, 16066, 16066, 24263, 24263, 222...</td>\n",
       "    </tr>\n",
       "    <tr>\n",
       "      <th>10125683</th>\n",
       "      <td>[18262, 18262, 18234, 18234, 20045, 20045, 172...</td>\n",
       "    </tr>\n",
       "    <tr>\n",
       "      <th>10139280</th>\n",
       "      <td>[24035, 24035, 231939, 231939, 8771, 8771, 808...</td>\n",
       "    </tr>\n",
       "    <tr>\n",
       "      <th>1022640</th>\n",
       "      <td>[74037, 74037, 238544, 238544, 53729, 53729, 2...</td>\n",
       "    </tr>\n",
       "  </tbody>\n",
       "</table>\n",
       "</div>"
      ],
      "text/plain": [
       "member                                              recipes\n",
       "10090853  [25830, 25830, 72964, 72964, 237678, 237678, 2...\n",
       "10106217  [55860, 55860, 16066, 16066, 24263, 24263, 222...\n",
       "10125683  [18262, 18262, 18234, 18234, 20045, 20045, 172...\n",
       "10139280  [24035, 24035, 231939, 231939, 8771, 8771, 808...\n",
       "1022640   [74037, 74037, 238544, 238544, 53729, 53729, 2..."
      ]
     },
     "execution_count": 79,
     "metadata": {},
     "output_type": "execute_result"
    }
   ],
   "source": [
    "mems_df.head()"
   ]
  },
  {
   "cell_type": "code",
   "execution_count": 278,
   "metadata": {
    "ExecuteTime": {
     "end_time": "2017-07-02T02:48:55.441345Z",
     "start_time": "2017-07-02T02:48:55.245791Z"
    }
   },
   "outputs": [
    {
     "data": {
      "text/plain": [
       "(u'10090853', member\n",
       " recipes    [25830, 25830, 72964, 72964, 237678, 237678, 2...\n",
       " Name: 10090853, dtype: object)"
      ]
     },
     "execution_count": 278,
     "metadata": {},
     "output_type": "execute_result"
    }
   ],
   "source": [
    "mems_df.iterrows().next()"
   ]
  },
  {
   "cell_type": "code",
   "execution_count": 82,
   "metadata": {
    "ExecuteTime": {
     "end_time": "2017-06-30T20:01:53.708733Z",
     "start_time": "2017-06-30T20:01:53.559056Z"
    },
    "scrolled": true
   },
   "outputs": [
    {
     "data": {
      "text/html": [
       "<div>\n",
       "<style>\n",
       "    .dataframe thead tr:only-child th {\n",
       "        text-align: right;\n",
       "    }\n",
       "\n",
       "    .dataframe thead th {\n",
       "        text-align: left;\n",
       "    }\n",
       "\n",
       "    .dataframe tbody tr th {\n",
       "        vertical-align: top;\n",
       "    }\n",
       "</style>\n",
       "<table border=\"1\" class=\"dataframe\">\n",
       "  <thead>\n",
       "    <tr style=\"text-align: right;\">\n",
       "      <th>member</th>\n",
       "      <th>recipes</th>\n",
       "    </tr>\n",
       "  </thead>\n",
       "  <tbody>\n",
       "    <tr>\n",
       "      <th>count</th>\n",
       "      <td>1430</td>\n",
       "    </tr>\n",
       "    <tr>\n",
       "      <th>unique</th>\n",
       "      <td>1255</td>\n",
       "    </tr>\n",
       "    <tr>\n",
       "      <th>top</th>\n",
       "      <td>[]</td>\n",
       "    </tr>\n",
       "    <tr>\n",
       "      <th>freq</th>\n",
       "      <td>138</td>\n",
       "    </tr>\n",
       "  </tbody>\n",
       "</table>\n",
       "</div>"
      ],
      "text/plain": [
       "member recipes\n",
       "count     1430\n",
       "unique    1255\n",
       "top         []\n",
       "freq       138"
      ]
     },
     "execution_count": 82,
     "metadata": {},
     "output_type": "execute_result"
    }
   ],
   "source": [
    "mems_df.describe()"
   ]
  },
  {
   "cell_type": "code",
   "execution_count": 93,
   "metadata": {
    "ExecuteTime": {
     "end_time": "2017-06-30T20:04:51.443710Z",
     "start_time": "2017-06-30T20:04:51.398826Z"
    },
    "collapsed": true
   },
   "outputs": [],
   "source": [
    "import collections"
   ]
  },
  {
   "cell_type": "code",
   "execution_count": null,
   "metadata": {
    "collapsed": true
   },
   "outputs": [],
   "source": [
    "import tim"
   ]
  },
  {
   "cell_type": "code",
   "execution_count": 105,
   "metadata": {
    "ExecuteTime": {
     "end_time": "2017-06-30T20:07:24.870733Z",
     "start_time": "2017-06-30T20:07:24.797577Z"
    }
   },
   "outputs": [
    {
     "ename": "TypeError",
     "evalue": "unhashable type: 'list'",
     "output_type": "error",
     "traceback": [
      "\u001b[0;31m---------------------------------------------------------------------------\u001b[0m",
      "\u001b[0;31mTypeError\u001b[0m                                 Traceback (most recent call last)",
      "\u001b[0;32m<ipython-input-105-aa18fa983253>\u001b[0m in \u001b[0;36m<module>\u001b[0;34m()\u001b[0m\n\u001b[0;32m----> 1\u001b[0;31m \u001b[0mcollections\u001b[0m\u001b[0;34m.\u001b[0m\u001b[0mCounter\u001b[0m\u001b[0;34m(\u001b[0m\u001b[0mmems_df\u001b[0m\u001b[0;34m[\u001b[0m\u001b[0;34m'recipes'\u001b[0m\u001b[0;34m]\u001b[0m\u001b[0;34m)\u001b[0m\u001b[0;34m.\u001b[0m\u001b[0mmost_common\u001b[0m\u001b[0;34m(\u001b[0m\u001b[0;34m)\u001b[0m\u001b[0;34m[\u001b[0m\u001b[0;34m:\u001b[0m\u001b[0;36m10\u001b[0m\u001b[0;34m]\u001b[0m\u001b[0;34m\u001b[0m\u001b[0m\n\u001b[0m",
      "\u001b[0;32m/Users/User1/anaconda/envs/python2/lib/python2.7/collections.pyc\u001b[0m in \u001b[0;36m__init__\u001b[0;34m(*args, **kwds)\u001b[0m\n\u001b[1;32m    475\u001b[0m             \u001b[0;32mraise\u001b[0m \u001b[0mTypeError\u001b[0m\u001b[0;34m(\u001b[0m\u001b[0;34m'expected at most 1 arguments, got %d'\u001b[0m \u001b[0;34m%\u001b[0m \u001b[0mlen\u001b[0m\u001b[0;34m(\u001b[0m\u001b[0margs\u001b[0m\u001b[0;34m)\u001b[0m\u001b[0;34m)\u001b[0m\u001b[0;34m\u001b[0m\u001b[0m\n\u001b[1;32m    476\u001b[0m         \u001b[0msuper\u001b[0m\u001b[0;34m(\u001b[0m\u001b[0mCounter\u001b[0m\u001b[0;34m,\u001b[0m \u001b[0mself\u001b[0m\u001b[0;34m)\u001b[0m\u001b[0;34m.\u001b[0m\u001b[0m__init__\u001b[0m\u001b[0;34m(\u001b[0m\u001b[0;34m)\u001b[0m\u001b[0;34m\u001b[0m\u001b[0m\n\u001b[0;32m--> 477\u001b[0;31m         \u001b[0mself\u001b[0m\u001b[0;34m.\u001b[0m\u001b[0mupdate\u001b[0m\u001b[0;34m(\u001b[0m\u001b[0;34m*\u001b[0m\u001b[0margs\u001b[0m\u001b[0;34m,\u001b[0m \u001b[0;34m**\u001b[0m\u001b[0mkwds\u001b[0m\u001b[0;34m)\u001b[0m\u001b[0;34m\u001b[0m\u001b[0m\n\u001b[0m\u001b[1;32m    478\u001b[0m \u001b[0;34m\u001b[0m\u001b[0m\n\u001b[1;32m    479\u001b[0m     \u001b[0;32mdef\u001b[0m \u001b[0m__missing__\u001b[0m\u001b[0;34m(\u001b[0m\u001b[0mself\u001b[0m\u001b[0;34m,\u001b[0m \u001b[0mkey\u001b[0m\u001b[0;34m)\u001b[0m\u001b[0;34m:\u001b[0m\u001b[0;34m\u001b[0m\u001b[0m\n",
      "\u001b[0;32m/Users/User1/anaconda/envs/python2/lib/python2.7/collections.pyc\u001b[0m in \u001b[0;36mupdate\u001b[0;34m(*args, **kwds)\u001b[0m\n\u001b[1;32m    565\u001b[0m                 \u001b[0mself_get\u001b[0m \u001b[0;34m=\u001b[0m \u001b[0mself\u001b[0m\u001b[0;34m.\u001b[0m\u001b[0mget\u001b[0m\u001b[0;34m\u001b[0m\u001b[0m\n\u001b[1;32m    566\u001b[0m                 \u001b[0;32mfor\u001b[0m \u001b[0melem\u001b[0m \u001b[0;32min\u001b[0m \u001b[0miterable\u001b[0m\u001b[0;34m:\u001b[0m\u001b[0;34m\u001b[0m\u001b[0m\n\u001b[0;32m--> 567\u001b[0;31m                     \u001b[0mself\u001b[0m\u001b[0;34m[\u001b[0m\u001b[0melem\u001b[0m\u001b[0;34m]\u001b[0m \u001b[0;34m=\u001b[0m \u001b[0mself_get\u001b[0m\u001b[0;34m(\u001b[0m\u001b[0melem\u001b[0m\u001b[0;34m,\u001b[0m \u001b[0;36m0\u001b[0m\u001b[0;34m)\u001b[0m \u001b[0;34m+\u001b[0m \u001b[0;36m1\u001b[0m\u001b[0;34m\u001b[0m\u001b[0m\n\u001b[0m\u001b[1;32m    568\u001b[0m         \u001b[0;32mif\u001b[0m \u001b[0mkwds\u001b[0m\u001b[0;34m:\u001b[0m\u001b[0;34m\u001b[0m\u001b[0m\n\u001b[1;32m    569\u001b[0m             \u001b[0mself\u001b[0m\u001b[0;34m.\u001b[0m\u001b[0mupdate\u001b[0m\u001b[0;34m(\u001b[0m\u001b[0mkwds\u001b[0m\u001b[0;34m)\u001b[0m\u001b[0;34m\u001b[0m\u001b[0m\n",
      "\u001b[0;31mTypeError\u001b[0m: unhashable type: 'list'"
     ]
    }
   ],
   "source": [
    "collections.Counter(mems_df['recipes']).most_common()[:10]"
   ]
  },
  {
   "cell_type": "code",
   "execution_count": 99,
   "metadata": {
    "ExecuteTime": {
     "end_time": "2017-06-30T20:06:01.761054Z",
     "start_time": "2017-06-30T20:06:01.717747Z"
    }
   },
   "outputs": [
    {
     "data": {
      "text/plain": [
       "Index([u'10090853', u'10106217', u'10125683', u'10139280', u'1022640',\n",
       "       u'1031281', u'10327182', u'10331900', u'10362783', u'1040418',\n",
       "       ...\n",
       "       u'supernaturalfan', u'susiewixon', u'sweetsavouryfoodie', u'szyq11',\n",
       "       u't1ina', u'thechefsisters', u'theempathiccook', u'vabluegrass',\n",
       "       u'whitwhit', u'youonlyliveonce'],\n",
       "      dtype='object', length=1430)"
      ]
     },
     "execution_count": 99,
     "metadata": {},
     "output_type": "execute_result"
    }
   ],
   "source": [
    "mems_df.index"
   ]
  },
  {
   "cell_type": "code",
   "execution_count": 111,
   "metadata": {
    "ExecuteTime": {
     "end_time": "2017-06-30T20:11:15.871419Z",
     "start_time": "2017-06-30T20:11:15.828720Z"
    },
    "collapsed": true
   },
   "outputs": [],
   "source": [
    "mems_np = np.asarray(mems_df)"
   ]
  },
  {
   "cell_type": "code",
   "execution_count": null,
   "metadata": {
    "collapsed": true
   },
   "outputs": [],
   "source": []
  }
 ],
 "metadata": {
  "kernelspec": {
   "display_name": "Python [conda env:python2]",
   "language": "python",
   "name": "conda-env-python2-py"
  }
 },
 "nbformat": 4,
 "nbformat_minor": 2
}
