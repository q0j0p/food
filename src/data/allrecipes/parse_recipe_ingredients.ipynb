{
 "cells": [
  {
   "cell_type": "markdown",
   "metadata": {},
   "source": [
    "# Parse the recipe ingredients into a standardized format \n"
   ]
  },
  {
   "cell_type": "code",
   "execution_count": 3,
   "metadata": {
    "ExecuteTime": {
     "end_time": "2017-07-04T23:51:34.106823Z",
     "start_time": "2017-07-04T23:51:30.732415Z"
    },
    "collapsed": true
   },
   "outputs": [],
   "source": [
    "import pymongo \n",
    "import nltk\n",
    "import collections\n",
    "import pandas as pd\n",
    "\n",
    "%matplotlib inline"
   ]
  },
  {
   "cell_type": "code",
   "execution_count": 4,
   "metadata": {
    "ExecuteTime": {
     "end_time": "2017-07-04T23:51:34.195462Z",
     "start_time": "2017-07-04T23:51:34.112446Z"
    },
    "collapsed": true
   },
   "outputs": [],
   "source": [
    "client = pymongo.MongoClient(\"mongodb://localhost/27017/\")"
   ]
  },
  {
   "cell_type": "code",
   "execution_count": 5,
   "metadata": {
    "ExecuteTime": {
     "end_time": "2017-07-04T23:51:34.264498Z",
     "start_time": "2017-07-04T23:51:34.198115Z"
    },
    "collapsed": true
   },
   "outputs": [],
   "source": [
    "ar_db = client.allrecipes"
   ]
  },
  {
   "cell_type": "code",
   "execution_count": 6,
   "metadata": {
    "ExecuteTime": {
     "end_time": "2017-07-04T23:51:34.592862Z",
     "start_time": "2017-07-04T23:51:34.267168Z"
    }
   },
   "outputs": [
    {
     "data": {
      "text/plain": [
       "[u'Cholesterol',\n",
       " u'nutrition',\n",
       " u'Carbs',\n",
       " u'recipe_times',\n",
       " u'nutrition_elements',\n",
       " u'Sodium',\n",
       " u'name',\n",
       " u'nutrition_serving_info',\n",
       " u'description',\n",
       " u'Calories',\n",
       " u'Fat',\n",
       " u'servings_config',\n",
       " u'recipe_ID',\n",
       " u'rating_list',\n",
       " u'servings',\n",
       " u'nutrition_info',\n",
       " u'Protein',\n",
       " u'_id',\n",
       " u'page',\n",
       " u'directions_list',\n",
       " u'ingredients_list']"
      ]
     },
     "execution_count": 6,
     "metadata": {},
     "output_type": "execute_result"
    }
   ],
   "source": [
    "ar_db.recipes.find_one().keys()"
   ]
  },
  {
   "cell_type": "code",
   "execution_count": 7,
   "metadata": {
    "ExecuteTime": {
     "end_time": "2017-07-04T23:51:34.709969Z",
     "start_time": "2017-07-04T23:51:34.596410Z"
    }
   },
   "outputs": [
    {
     "name": "stdout",
     "output_type": "stream",
     "text": [
      "number of recipes in database: 11111\n"
     ]
    }
   ],
   "source": [
    "print \"number of recipes in database:\", ar_db.recipes.count()"
   ]
  },
  {
   "cell_type": "code",
   "execution_count": 8,
   "metadata": {
    "ExecuteTime": {
     "end_time": "2017-07-04T23:51:34.780477Z",
     "start_time": "2017-07-04T23:51:34.724319Z"
    },
    "collapsed": true
   },
   "outputs": [],
   "source": [
    "# How many ingredients are there in a recipe? "
   ]
  },
  {
   "cell_type": "code",
   "execution_count": 9,
   "metadata": {
    "ExecuteTime": {
     "end_time": "2017-07-04T23:53:55.697035Z",
     "start_time": "2017-07-04T23:51:34.784646Z"
    },
    "collapsed": true
   },
   "outputs": [],
   "source": [
    "# Get a dict of all ingredients \n",
    "all_ingredients = {a['recipe_ID']:a['ingredients_list'] for a in ar_db.recipes.find({\"ingredients_list\":{\"$exists\":True}})}\n"
   ]
  },
  {
   "cell_type": "code",
   "execution_count": 10,
   "metadata": {
    "ExecuteTime": {
     "end_time": "2017-07-04T23:53:56.855180Z",
     "start_time": "2017-07-04T23:53:55.712702Z"
    }
   },
   "outputs": [
    {
     "data": {
      "text/plain": [
       "(u'228057',\n",
       " [u'1 bunch collard greens, chopped',\n",
       "  u'1 (16 ounce) package hickory-smoked bacon, diced',\n",
       "  u'1/2 cup butter',\n",
       "  u'1 large onion, chopped',\n",
       "  u'2 cubes chicken bouillon, crumbled',\n",
       "  u'1 cup water',\n",
       "  u'4 cloves garlic, minced',\n",
       "  u'1/2 teaspoon dried oregano',\n",
       "  u'1 pinch ground thyme, or to taste',\n",
       "  u'1 pinch dried savory, or to taste',\n",
       "  u'4 teaspoons milk'])"
      ]
     },
     "execution_count": 10,
     "metadata": {},
     "output_type": "execute_result"
    }
   ],
   "source": [
    "all_ingredients.items()[1]"
   ]
  },
  {
   "cell_type": "code",
   "execution_count": 11,
   "metadata": {
    "ExecuteTime": {
     "end_time": "2017-07-04T23:53:57.232816Z",
     "start_time": "2017-07-04T23:53:56.859143Z"
    },
    "collapsed": true,
    "scrolled": true
   },
   "outputs": [],
   "source": [
    "ingredients_counter = collections.Counter([len(a) for a in all_ingredients.values()])"
   ]
  },
  {
   "cell_type": "code",
   "execution_count": 12,
   "metadata": {
    "ExecuteTime": {
     "end_time": "2017-07-04T23:53:57.453379Z",
     "start_time": "2017-07-04T23:53:57.238027Z"
    }
   },
   "outputs": [
    {
     "data": {
      "text/plain": [
       "Counter({0: 280,\n",
       "         1: 12,\n",
       "         2: 59,\n",
       "         3: 272,\n",
       "         4: 506,\n",
       "         5: 867,\n",
       "         6: 1042,\n",
       "         7: 1170,\n",
       "         8: 1194,\n",
       "         9: 1161,\n",
       "         10: 1041,\n",
       "         11: 810,\n",
       "         12: 706,\n",
       "         13: 548,\n",
       "         14: 404,\n",
       "         15: 286,\n",
       "         16: 230,\n",
       "         17: 185,\n",
       "         18: 83,\n",
       "         19: 82,\n",
       "         20: 53,\n",
       "         21: 33,\n",
       "         22: 30,\n",
       "         23: 18,\n",
       "         24: 13,\n",
       "         25: 6,\n",
       "         26: 6,\n",
       "         27: 2,\n",
       "         28: 4,\n",
       "         29: 3,\n",
       "         30: 1,\n",
       "         31: 1,\n",
       "         32: 1,\n",
       "         33: 1,\n",
       "         44: 1})"
      ]
     },
     "execution_count": 12,
     "metadata": {},
     "output_type": "execute_result"
    }
   ],
   "source": [
    "ingredients_counter"
   ]
  },
  {
   "cell_type": "code",
   "execution_count": 13,
   "metadata": {
    "ExecuteTime": {
     "end_time": "2017-07-04T23:53:59.021264Z",
     "start_time": "2017-07-04T23:53:57.467550Z"
    },
    "scrolled": true
   },
   "outputs": [
    {
     "data": {
      "text/plain": [
       "<matplotlib.axes._subplots.AxesSubplot at 0x110ef1dd0>"
      ]
     },
     "execution_count": 13,
     "metadata": {},
     "output_type": "execute_result"
    },
    {
     "data": {
      "image/png": "[encoded data removed]",
      "text/plain": [
       "<matplotlib.figure.Figure at 0x110946d50>"
      ]
     },
     "metadata": {},
     "output_type": "display_data"
    }
   ],
   "source": [
    "# Histogram of the number of ingredients in recipes \n",
    "pd.Series(len(a) for a  in all_ingredients.values()).hist(bins=40)"
   ]
  },
  {
   "cell_type": "code",
   "execution_count": 14,
   "metadata": {
    "ExecuteTime": {
     "end_time": "2017-07-04T23:53:59.137484Z",
     "start_time": "2017-07-04T23:53:59.023784Z"
    }
   },
   "outputs": [
    {
     "data": {
      "text/plain": [
       "[(5661, u'220871'), (8638, u'246781'), (9171, u'231087'), (10406, u'63008870')]"
      ]
     },
     "execution_count": 14,
     "metadata": {},
     "output_type": "execute_result"
    }
   ],
   "source": [
    "# Number of ingredients peaks at ~8.  \n",
    "# Can a recipe really have 32 items?  How annoying.  \n",
    "from itertools import izip as zip, count\n",
    "[(i,j) for i, j in zip(count(), all_ingredients) if len(all_ingredients[j])> 30]"
   ]
  },
  {
   "cell_type": "code",
   "execution_count": 15,
   "metadata": {
    "ExecuteTime": {
     "end_time": "2017-07-04T23:53:59.229853Z",
     "start_time": "2017-07-04T23:53:59.142370Z"
    }
   },
   "outputs": [
    {
     "data": {
      "text/plain": [
       "[u'Dash = Less than 1/8 Tsp',\n",
       " u'1/2 Tbs = 1 1//2 Tsp',\n",
       " u'1 Tbs = 3 Tsp',\n",
       " u'1/8 Cup = 2 Tbs',\n",
       " u'1/4 Cup = 4 Tbs',\n",
       " u'1/3 Cup = 5 Tbs',\n",
       " u'1/2 Cup = 8 Tbs',\n",
       " u'3/4 Cup = 12 Tbs',\n",
       " u'1 Cup = 16 Tbs',\n",
       " u'1 Pint = 2 Cups = 16 Fluid ounces',\n",
       " u'1 Quart = 4 Cups = 2 Pints = 32 Fluid ounce',\n",
       " u'1 Gallon = 16 Cups = 4 Quarts',\n",
       " u'33 whole wafers = 1c crushed wafers = 135 grams = 4oz.10 whole wafers = 1/2c whole wafers = 1/4c crushed = 40 grams = 1.5oz',\n",
       " u'BUTTER',\n",
       " u'2 Cups = 1 lb = 4 sticks',\n",
       " u'1 Cup = 1/2 lb = 2 Sticks',\n",
       " u'1/2 Cup =8 tbs = 1 stick',\n",
       " u'1/4 Cup = 1/2 stick = 4 tbs',\n",
       " u'CHOCOLATE',\n",
       " u'1 6oz Pkg chips = 1 cup or 6 1oz Squares semisweet chocolate',\n",
       " u'COCOA unsweetened',\n",
       " u'1 8oz Can = 2 cups',\n",
       " u'COCONUT,flaked',\n",
       " u'3 1/2ozs = 1 1/3 cups',\n",
       " u'CREAM CHEESE',\n",
       " u'1 3 oz Pkg = 6 tbs',\n",
       " u'1 8 oz Pkg = 1 cup',\n",
       " u'FLOUR',\n",
       " u'White or all purpose 1 lb = 3 1/2 to 4 cups',\n",
       " u'Whole wheat 1 lb = 3 3/4 to 4 cups',\n",
       " u'HONEY',\n",
       " u'16 Oz = 1 1/2 cups',\n",
       " u'MARSHMALLOWS',\n",
       " u'1 Cup cut up = 16 Large or 160 miniature',\n",
       " u'MILK',\n",
       " u'Evaporated 1 5oz can = 2/3 cup',\n",
       " u'1 12 Oz can = 1 2/3 cups',\n",
       " u'Sweetened condensed 1 14 oz can = 1 1/4 cups',\n",
       " u'SHORTENING',\n",
       " u'1 Lb = 2 1/2 cups',\n",
       " u'SUGAR',\n",
       " u'Granulated 1 lb = 2 1/2 cups',\n",
       " u'Brown packed 1 lb = 2 1/4 cups',\n",
       " u'Confectioner,s or powder  1 lb = 3 3/4 to 4 cups unsifted']"
      ]
     },
     "execution_count": 15,
     "metadata": {},
     "output_type": "execute_result"
    }
   ],
   "source": [
    "all_ingredients['63008870'] # how anal!"
   ]
  },
  {
   "cell_type": "code",
   "execution_count": 16,
   "metadata": {
    "ExecuteTime": {
     "end_time": "2017-07-04T23:53:59.728032Z",
     "start_time": "2017-07-04T23:53:59.234714Z"
    },
    "scrolled": true
   },
   "outputs": [
    {
     "data": {
      "text/plain": [
       "[u'1/2 cup butter',\n",
       " u'1/2 cup white sugar',\n",
       " u'1/3 cup packed brown sugar',\n",
       " u'1/2 cup peanut butter',\n",
       " u'1/2 teaspoon vanilla extract',\n",
       " u'1 egg',\n",
       " u'1 cup all-purpose flour',\n",
       " u'1 teaspoon baking soda',\n",
       " u'1/4 teaspoon salt',\n",
       " u'1/2 cup rolled oats',\n",
       " u'1 cup semisweet chocolate chips']"
      ]
     },
     "execution_count": 16,
     "metadata": {},
     "output_type": "execute_result"
    }
   ],
   "source": [
    "# look at a sample ingredients_list\n",
    "sample_list = ar_db.recipes.find_one()['ingredients_list']\n",
    "sample_list"
   ]
  },
  {
   "cell_type": "code",
   "execution_count": 17,
   "metadata": {
    "ExecuteTime": {
     "end_time": "2017-07-04T23:54:23.143155Z",
     "start_time": "2017-07-04T23:53:59.738569Z"
    }
   },
   "outputs": [
    {
     "data": {
      "text/plain": [
       "(u'73468',\n",
       " [[u'4', u'cups', u'water', u',', u'divided'],\n",
       "  [u'1',\n",
       "   u'1/2',\n",
       "   u'tablespoons',\n",
       "   u'plain',\n",
       "   u'yogurt',\n",
       "   u'with',\n",
       "   u'active',\n",
       "   u'cultures'],\n",
       "  [u'1', u'3/4', u'cups', u'dry', u'milk', u'powder']])"
      ]
     },
     "execution_count": 17,
     "metadata": {},
     "output_type": "execute_result"
    }
   ],
   "source": [
    "# tokenize each item, including punctuation\n",
    "ingredients_tokenized = [(a[0],[nltk.word_tokenize(b) for b in a[1]]) for a in all_ingredients.items()]\n",
    "ingredients_tokenized[0]"
   ]
  },
  {
   "cell_type": "code",
   "execution_count": 18,
   "metadata": {
    "ExecuteTime": {
     "end_time": "2017-07-04T23:54:23.486044Z",
     "start_time": "2017-07-04T23:54:23.147137Z"
    },
    "collapsed": true
   },
   "outputs": [],
   "source": [
    "nltk.pos_tag?"
   ]
  },
  {
   "cell_type": "code",
   "execution_count": 19,
   "metadata": {
    "ExecuteTime": {
     "end_time": "2017-07-04T23:57:55.960238Z",
     "start_time": "2017-07-04T23:54:23.489342Z"
    },
    "scrolled": true
   },
   "outputs": [
    {
     "data": {
      "text/plain": [
       "(u'73468',\n",
       " [[(u'4', 'CD'),\n",
       "   (u'cups', 'NNS'),\n",
       "   (u'water', 'NN'),\n",
       "   (u',', ','),\n",
       "   (u'divided', 'VBD')],\n",
       "  [(u'1', 'CD'),\n",
       "   (u'1/2', 'CD'),\n",
       "   (u'tablespoons', 'NNS'),\n",
       "   (u'plain', 'VBP'),\n",
       "   (u'yogurt', 'NN'),\n",
       "   (u'with', 'IN'),\n",
       "   (u'active', 'JJ'),\n",
       "   (u'cultures', 'NNS')],\n",
       "  [(u'1', 'CD'),\n",
       "   (u'3/4', 'CD'),\n",
       "   (u'cups', 'NNS'),\n",
       "   (u'dry', 'JJ'),\n",
       "   (u'milk', 'NN'),\n",
       "   (u'powder', 'NN')]])"
      ]
     },
     "execution_count": 19,
     "metadata": {},
     "output_type": "execute_result"
    }
   ],
   "source": [
    "# get part of speech tags \n",
    "ingredients_pos = [(a[0], [nltk.pos_tag(b) for b in a[1]]) for a in ingredients_tokenized]\n",
    "ingredients_pos[0]"
   ]
  },
  {
   "cell_type": "code",
   "execution_count": 20,
   "metadata": {
    "ExecuteTime": {
     "end_time": "2017-07-04T23:57:56.457281Z",
     "start_time": "2017-07-04T23:57:55.965018Z"
    }
   },
   "outputs": [
    {
     "data": {
      "text/plain": [
       "(u'73468',\n",
       " [[u'4', u'cups', u'water', u',', u'divided'],\n",
       "  [u'1',\n",
       "   u'1/2',\n",
       "   u'tablespoons',\n",
       "   u'plain',\n",
       "   u'yogurt',\n",
       "   u'with',\n",
       "   u'active',\n",
       "   u'cultures'],\n",
       "  [u'1', u'3/4', u'cups', u'dry', u'milk', u'powder']])"
      ]
     },
     "execution_count": 20,
     "metadata": {},
     "output_type": "execute_result"
    }
   ],
   "source": [
    "ingredients_tokenized[0]"
   ]
  },
  {
   "cell_type": "code",
   "execution_count": 21,
   "metadata": {
    "ExecuteTime": {
     "end_time": "2017-07-04T23:57:56.554078Z",
     "start_time": "2017-07-04T23:57:56.459871Z"
    }
   },
   "outputs": [
    {
     "data": {
      "text/plain": [
       "[u'4 cups water, divided',\n",
       " u'1 1/2 tablespoons plain yogurt with active cultures',\n",
       " u'1 3/4 cups dry milk powder']"
      ]
     },
     "execution_count": 21,
     "metadata": {},
     "output_type": "execute_result"
    }
   ],
   "source": [
    "all_ingredients['73468']"
   ]
  },
  {
   "cell_type": "code",
   "execution_count": 22,
   "metadata": {
    "ExecuteTime": {
     "end_time": "2017-07-04T23:57:58.869125Z",
     "start_time": "2017-07-04T23:57:56.557678Z"
    },
    "scrolled": true
   },
   "outputs": [
    {
     "data": {
      "text/plain": [
       "<matplotlib.axes._subplots.AxesSubplot at 0x11b15b4d0>"
      ]
     },
     "execution_count": 22,
     "metadata": {},
     "output_type": "execute_result"
    },
    {
     "data": {
      "image/png": "[encoded data removed]",
      "text/plain": [
       "<matplotlib.figure.Figure at 0x11270cbd0>"
      ]
     },
     "metadata": {},
     "output_type": "display_data"
    }
   ],
   "source": [
    "# Histogram of number of tokens per ingredient \n",
    "pd.Series([len(b) for a in ingredients_tokenized for b in a[1]]).hist(bins=60)"
   ]
  },
  {
   "cell_type": "code",
   "execution_count": 23,
   "metadata": {
    "ExecuteTime": {
     "end_time": "2017-07-04T23:57:58.960798Z",
     "start_time": "2017-07-04T23:57:58.872024Z"
    },
    "collapsed": true
   },
   "outputs": [],
   "source": [
    "# complie set of terms used for units \n",
    "unit_elements = {'bunch', 'clove', 'cloves', 'cup', 'cups', 'gallons', 'lb', 'lbs', 'liter', \n",
    "                 'liters', 'ounce', 'ounces', 'pinch', \n",
    "                 'pint', 'pints', 'pounds', 'quart', 'quarts', 'sprig', 'stick', 'tablespoon',\n",
    "                 'tablespoons', 'tbsp', 'teaspoon', 'teaspoons', 'tsp', 'package', 'packages'}"
   ]
  },
  {
   "cell_type": "code",
   "execution_count": 24,
   "metadata": {
    "ExecuteTime": {
     "end_time": "2017-07-04T23:57:59.117331Z",
     "start_time": "2017-07-04T23:57:58.971634Z"
    }
   },
   "outputs": [
    {
     "name": "stdout",
     "output_type": "stream",
     "text": [
      "NN: noun, common, singular or mass\n",
      "    common-carrier cabbage knuckle-duster Casino afghan shed thermostat\n",
      "    investment slide humour falloff slick wind hyena override subhumanity\n",
      "    machinist ...\n"
     ]
    }
   ],
   "source": [
    "# To access key desriptions for parts of speech: \n",
    "nltk.help.upenn_tagset('NN')"
   ]
  },
  {
   "cell_type": "markdown",
   "metadata": {},
   "source": [
    "## Parsing ingredients list \n",
    "The goal is to extract information pertaining to amount and identity.  \n",
    "\n",
    "Quantity phrases are composed of:  \n",
    "numeric (integer, decimal, (integer plus fraction) greater than 0, and unit (optional)\n",
    "Identity phrases are a collection of \n",
    "nouns, adjectives, verb (past tense)\n",
    "\n",
    "### Features: \n",
    "* number of phrases (tokens)\n",
    "* tags of tokens \n",
    "* encapsulation punctuation (parentheses)\n",
    "\n",
    "### Cases: \n",
    "1. number of tokens is 0: toss.  \n",
    "1. number of tokens is 1: unquantified ingredient\n",
    "1. number of tokens is 2: \n",
    "    1. if 1st token is numeric, 2nd is noun: [quantity] [ingredient noun] \n",
    "    1. if both are nouns: [ingredient phrase] \n",
    "1. number of tokens is 3: \n",
    "    1. [quantity] [unit] [ingredient noun] \n",
    "    1. [quantity] [ingredient phrase]\n",
    "    1. [ingredient phrase] \n",
    "1. number of tokens is 4 or more: \n",
    "    1. all of above \n",
    "    1. [quantity] [(other quantity plus unit)] [ingredient phrase]\n",
    "    \n",
    "    \n",
    "[quantity] [unit] [ingredient bag of words]"
   ]
  },
  {
   "cell_type": "code",
   "execution_count": 25,
   "metadata": {
    "ExecuteTime": {
     "end_time": "2017-07-04T23:57:59.220318Z",
     "start_time": "2017-07-04T23:57:59.122059Z"
    },
    "collapsed": true
   },
   "outputs": [],
   "source": [
    "def to_numeric(str): \n",
    "    '''turn string representation of fractions to float'''\n",
    "    if \"/\" in str: \n",
    "        ind = str.index(\"/\")\n",
    "        return float(str[:ind])/float(str[ind+1:])\n",
    "    return float(str)"
   ]
  },
  {
   "cell_type": "code",
   "execution_count": 26,
   "metadata": {
    "ExecuteTime": {
     "end_time": "2017-07-04T23:57:59.332161Z",
     "start_time": "2017-07-04T23:57:59.244806Z"
    }
   },
   "outputs": [
    {
     "data": {
      "text/plain": [
       "0.5"
      ]
     },
     "execution_count": 26,
     "metadata": {},
     "output_type": "execute_result"
    }
   ],
   "source": [
    "to_numeric(\"1/2\")"
   ]
  },
  {
   "cell_type": "code",
   "execution_count": 27,
   "metadata": {
    "ExecuteTime": {
     "end_time": "2017-07-04T23:57:59.502940Z",
     "start_time": "2017-07-04T23:57:59.335322Z"
    },
    "collapsed": true
   },
   "outputs": [],
   "source": [
    "def parse_ingredient(tagged_list): \n",
    "    \"\"\"Transform pos tagged ingredient into standardized format\n",
    "    Input: list of pos-tagged ingredient \n",
    "    Returns: parsed list of ingredient: [<float:quantity>. \n",
    "                                         <string:unit>, \n",
    "                                         <list:tokenized ingredient terms>] \n",
    "    \n",
    "    \"\"\"\n",
    "    token_list = [a[0] for a in tagged_list]\n",
    "    if (\"(\" in token_list) and (\")\" in token_list): \n",
    "        if token_list.count(\"(\") > 1: \n",
    "            print \"More than one parenthesis: needs more work\"\n",
    "        else: \n",
    "\n",
    "            parens = token_list[token_list.index(\"(\"):token_list.index(\")\")+1]\n",
    "            print \"   Tokens in parenthesis, ignored for now:\", parens\n",
    "            tagged_list =  tagged_list[:token_list.index(\"(\")] + tagged_list[token_list.index(\")\")+1:]\n",
    "    list_len = len(tagged_list)\n",
    "    if list_len == 0: \n",
    "        return None \n",
    "    if list_len == 1: \n",
    "        return (None, \"unit\", [tagged_list[0][0]])\n",
    "    if list_len == 2: \n",
    "        if tagged_list[0][1] == 'CD': \n",
    "            return (float(tagged_list[0][0]), \"unit\", [tagged_list[1][0]])\n",
    "        else: \n",
    "            return ([a[0] for a in tagged_list])\n",
    "    if list_len == 3: \n",
    "        if tagged_list[0][1] == \"CD\": \n",
    "            if tagged_list[1][0] in unit_elements: \n",
    "                return (to_numeric(tagged_list[0][0]), \n",
    "                        tagged_list[1][0], \n",
    "                        [tagged_list[2][0]])\n",
    "            elif tagged_list[1][1] == \"CD\": \n",
    "                    return (to_numeric(tagged_list[0][0]) + float(tagged_list[1][0]), \n",
    "                            'unit', \n",
    "                            [tagged_list[2][0]])\n",
    "            else:\n",
    "                return (to_numeric(tagged_list[0][0]), \n",
    "                        \"unit\", \n",
    "                        [a[0] for a in tagged_list[1:]])\n",
    "        else: \n",
    "            return (None, \"unit\", [a[0] for a in tagged_list])\n",
    "    if list_len > 3: \n",
    "        if (tagged_list[0][1] == 'CD') and (tagged_list[1][1] == 'CD') and (tagged_list[2][0] in unit_elements): \n",
    "             return (to_numeric(tagged_list[0][0]) + to_numeric(tagged_list[1][0]), \n",
    "                                                           tagged_list[2][0], \n",
    "                                                           [a[0] for a in tagged_list[3:]])\n",
    "        elif parse_ingredient(tagged_list[:3]): \n",
    "            list1 = list(parse_ingredient(tagged_list[:3]))\n",
    "            list1[2].extend([a[0] for a in tagged_list[3:]]) \n",
    "            return tuple(list1)"
   ]
  },
  {
   "cell_type": "code",
   "execution_count": 28,
   "metadata": {
    "ExecuteTime": {
     "end_time": "2017-07-04T23:57:59.777434Z",
     "start_time": "2017-07-04T23:57:59.545243Z"
    },
    "scrolled": true
   },
   "outputs": [
    {
     "data": {
      "text/plain": [
       "[u'1 bunch collard greens, chopped',\n",
       " u'1 (16 ounce) package hickory-smoked bacon, diced',\n",
       " u'1/2 cup butter',\n",
       " u'1 large onion, chopped',\n",
       " u'2 cubes chicken bouillon, crumbled',\n",
       " u'1 cup water',\n",
       " u'4 cloves garlic, minced',\n",
       " u'1/2 teaspoon dried oregano',\n",
       " u'1 pinch ground thyme, or to taste',\n",
       " u'1 pinch dried savory, or to taste',\n",
       " u'4 teaspoons milk']"
      ]
     },
     "execution_count": 28,
     "metadata": {},
     "output_type": "execute_result"
    }
   ],
   "source": [
    "# Try on a sample.\n",
    "# original ingredients_list:\n",
    "all_ingredients[ingredients_pos[1][0]]"
   ]
  },
  {
   "cell_type": "code",
   "execution_count": 29,
   "metadata": {
    "ExecuteTime": {
     "end_time": "2017-07-04T23:57:59.962722Z",
     "start_time": "2017-07-04T23:57:59.783116Z"
    }
   },
   "outputs": [
    {
     "data": {
      "text/plain": [
       "[[(u'1', 'CD'),\n",
       "  (u'bunch', 'JJ'),\n",
       "  (u'collard', 'NN'),\n",
       "  (u'greens', 'NNS'),\n",
       "  (u',', ','),\n",
       "  (u'chopped', 'VBD')],\n",
       " [(u'1', 'CD'),\n",
       "  (u'(', '('),\n",
       "  (u'16', 'CD'),\n",
       "  (u'ounce', 'NN'),\n",
       "  (u')', ')'),\n",
       "  (u'package', 'NN'),\n",
       "  (u'hickory-smoked', 'JJ'),\n",
       "  (u'bacon', 'NN'),\n",
       "  (u',', ','),\n",
       "  (u'diced', 'VBD')],\n",
       " [(u'1/2', 'CD'), (u'cup', 'NN'), (u'butter', 'NN')],\n",
       " [(u'1', 'CD'),\n",
       "  (u'large', 'JJ'),\n",
       "  (u'onion', 'NN'),\n",
       "  (u',', ','),\n",
       "  (u'chopped', 'VBD')],\n",
       " [(u'2', 'CD'),\n",
       "  (u'cubes', 'NNS'),\n",
       "  (u'chicken', 'VBN'),\n",
       "  (u'bouillon', 'NN'),\n",
       "  (u',', ','),\n",
       "  (u'crumbled', 'VBD')],\n",
       " [(u'1', 'CD'), (u'cup', 'NN'), (u'water', 'NN')],\n",
       " [(u'4', 'CD'),\n",
       "  (u'cloves', 'NNS'),\n",
       "  (u'garlic', 'JJ'),\n",
       "  (u',', ','),\n",
       "  (u'minced', 'VBD')],\n",
       " [(u'1/2', 'CD'), (u'teaspoon', 'NN'), (u'dried', 'VBD'), (u'oregano', 'NN')],\n",
       " [(u'1', 'CD'),\n",
       "  (u'pinch', 'NN'),\n",
       "  (u'ground', 'NN'),\n",
       "  (u'thyme', 'NN'),\n",
       "  (u',', ','),\n",
       "  (u'or', 'CC'),\n",
       "  (u'to', 'TO'),\n",
       "  (u'taste', 'VB')],\n",
       " [(u'1', 'CD'),\n",
       "  (u'pinch', 'NN'),\n",
       "  (u'dried', 'VBD'),\n",
       "  (u'savory', 'NN'),\n",
       "  (u',', ','),\n",
       "  (u'or', 'CC'),\n",
       "  (u'to', 'TO'),\n",
       "  (u'taste', 'VB')],\n",
       " [(u'4', 'CD'), (u'teaspoons', 'NNS'), (u'milk', 'NN')]]"
      ]
     },
     "execution_count": 29,
     "metadata": {},
     "output_type": "execute_result"
    }
   ],
   "source": [
    "ingredients_pos[1][1]"
   ]
  },
  {
   "cell_type": "code",
   "execution_count": 30,
   "metadata": {
    "ExecuteTime": {
     "end_time": "2017-07-04T23:58:00.089902Z",
     "start_time": "2017-07-04T23:57:59.968835Z"
    }
   },
   "outputs": [
    {
     "name": "stdout",
     "output_type": "stream",
     "text": [
      "0 (1.0, u'bunch', [u'collard', u'greens', u',', u'chopped'])\n",
      "1 Tokens in parenthesis, ignored for now: [u'(', u'16', u'ounce', u')']\n",
      "(1.0, u'package', [u'hickory-smoked', u'bacon', u',', u'diced'])\n",
      "2 (0.5, u'cup', [u'butter'])\n",
      "3 (1.0, 'unit', [u'large', u'onion', u',', u'chopped'])\n",
      "4 (2.0, 'unit', [u'cubes', u'chicken', u'bouillon', u',', u'crumbled'])\n",
      "5 (1.0, u'cup', [u'water'])\n",
      "6 (4.0, u'cloves', [u'garlic', u',', u'minced'])\n",
      "7 (0.5, u'teaspoon', [u'dried', u'oregano'])\n",
      "8 (1.0, u'pinch', [u'ground', u'thyme', u',', u'or', u'to', u'taste'])\n",
      "9 (1.0, u'pinch', [u'dried', u'savory', u',', u'or', u'to', u'taste'])\n",
      "10 (4.0, u'teaspoons', [u'milk'])\n"
     ]
    }
   ],
   "source": [
    "for i,a in enumerate(ingredients_pos[1][1]): \n",
    "    print i, parse_ingredient(a)"
   ]
  },
  {
   "cell_type": "code",
   "execution_count": null,
   "metadata": {
    "collapsed": true
   },
   "outputs": [],
   "source": []
  }
 ],
 "metadata": {
  "kernelspec": {
   "display_name": "Python [conda env:python2]",
   "language": "python",
   "name": "conda-env-python2-py"
  },
  "language_info": {
   "codemirror_mode": {
    "name": "ipython",
    "version": 2
   },
   "file_extension": ".py",
   "mimetype": "text/x-python",
   "name": "python",
   "nbconvert_exporter": "python",
   "pygments_lexer": "ipython2",
   "version": "2.7.13"
  }
 },
 "nbformat": 4,
 "nbformat_minor": 2
}
